{
 "cells": [
  {
   "cell_type": "code",
   "id": "initial_id",
   "metadata": {
    "collapsed": true,
    "ExecuteTime": {
     "end_time": "2024-10-29T14:24:15.543439Z",
     "start_time": "2024-10-29T14:24:15.539971Z"
    }
   },
   "source": "import pandas as pd",
   "outputs": [],
   "execution_count": 15
  },
  {
   "metadata": {
    "ExecuteTime": {
     "end_time": "2024-10-29T17:16:40.285783Z",
     "start_time": "2024-10-29T17:16:40.280312Z"
    }
   },
   "cell_type": "code",
   "source": [
    "def min_max_normalization(df, feature):\n",
    "    min_val = df[feature].min()\n",
    "    max_val = df[feature].max()\n",
    "    return (df[feature] - min_val) / (max_val - min_val)"
   ],
   "id": "6076fbeb6410a1fe",
   "outputs": [],
   "execution_count": 27
  },
  {
   "metadata": {
    "ExecuteTime": {
     "end_time": "2024-10-29T17:16:41.712886Z",
     "start_time": "2024-10-29T17:16:41.701048Z"
    }
   },
   "cell_type": "code",
   "source": [
    "data = {\n",
    "    'Age': [25, 30, 35, 40, 45],\n",
    "    'Salary': [30000, 40000, 50000, 60000, 70000]\n",
    "}\n",
    "df = pd.DataFrame(data)"
   ],
   "id": "4a5b8bfa2a3ef390",
   "outputs": [],
   "execution_count": 28
  },
  {
   "metadata": {
    "ExecuteTime": {
     "end_time": "2024-10-29T17:16:42.962029Z",
     "start_time": "2024-10-29T17:16:42.955077Z"
    }
   },
   "cell_type": "code",
   "source": [
    "df[\"Age_Normal\"] = min_max_normalization(df, \"Age\")\n",
    "df[\"Salary_Normal\"] = min_max_normalization(df, \"Salary\")"
   ],
   "id": "af2bfb6268d4d0e0",
   "outputs": [],
   "execution_count": 29
  },
  {
   "metadata": {
    "ExecuteTime": {
     "end_time": "2024-10-29T18:07:12.882078Z",
     "start_time": "2024-10-29T18:07:12.875217Z"
    }
   },
   "cell_type": "code",
   "source": [
    "print(\"\\nNormalization\\n\")\n",
    "print(df)"
   ],
   "id": "3bdbfd51d3b34def",
   "outputs": [
    {
     "name": "stdout",
     "output_type": "stream",
     "text": [
      "\n",
      "Normalization\n",
      "\n",
      "   Age  Salary  Age_Normal  Salary_Normal\n",
      "0   25   30000        0.00           0.00\n",
      "1   30   40000        0.25           0.25\n",
      "2   35   50000        0.50           0.50\n",
      "3   40   60000        0.75           0.75\n",
      "4   45   70000        1.00           1.00\n"
     ]
    }
   ],
   "execution_count": 31
  },
  {
   "metadata": {},
   "cell_type": "code",
   "outputs": [],
   "execution_count": null,
   "source": "",
   "id": "22be040d25dd2d38"
  }
 ],
 "metadata": {
  "kernelspec": {
   "display_name": "Python 3",
   "language": "python",
   "name": "python3"
  },
  "language_info": {
   "codemirror_mode": {
    "name": "ipython",
    "version": 2
   },
   "file_extension": ".py",
   "mimetype": "text/x-python",
   "name": "python",
   "nbconvert_exporter": "python",
   "pygments_lexer": "ipython2",
   "version": "2.7.6"
  }
 },
 "nbformat": 4,
 "nbformat_minor": 5
}
