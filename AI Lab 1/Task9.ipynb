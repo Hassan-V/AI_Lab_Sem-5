{
 "cells": [
  {
   "metadata": {},
   "cell_type": "markdown",
   "source": "",
   "id": "1679b5d6d7a66e78"
  },
  {
   "cell_type": "code",
   "id": "initial_id",
   "metadata": {
    "collapsed": true,
    "ExecuteTime": {
     "end_time": "2024-10-22T12:25:30.322283Z",
     "start_time": "2024-10-22T12:25:30.317520Z"
    }
   },
   "source": [
    "from typing import List\n",
    "\n",
    "vowels: List[chr] = [\"a\", \"e\", \"i\", \"o\", \"u\"]\n",
    "\n",
    "def is_vowel(word) -> None:\n",
    "    if not word:\n",
    "        return\n",
    "    for char in word.strip():\n",
    "        if char.lower() in vowels:\n",
    "            print(f\"{char} in '{word}' is a vowel\")"
   ],
   "outputs": [],
   "execution_count": 7
  },
  {
   "metadata": {
    "ExecuteTime": {
     "end_time": "2024-10-22T12:25:30.561555Z",
     "start_time": "2024-10-22T12:25:30.556651Z"
    }
   },
   "cell_type": "code",
   "source": [
    "def main()-> None:\n",
    "    word = input(\"Enter a word: \")\n",
    "    is_vowel(word)"
   ],
   "id": "95250dfd3be6c67c",
   "outputs": [],
   "execution_count": 8
  },
  {
   "metadata": {
    "ExecuteTime": {
     "end_time": "2024-10-22T12:25:44.317995Z",
     "start_time": "2024-10-22T12:25:30.960749Z"
    }
   },
   "cell_type": "code",
   "source": [
    "if __name__ == \"__main__\":\n",
    "    main()"
   ],
   "id": "3c06d488c8bca2bc",
   "outputs": [
    {
     "name": "stdout",
     "output_type": "stream",
     "text": [
      "a in 'Taqi KHAN Tha Beint' is a vowel\n",
      "i in 'Taqi KHAN Tha Beint' is a vowel\n",
      "A in 'Taqi KHAN Tha Beint' is a vowel\n",
      "a in 'Taqi KHAN Tha Beint' is a vowel\n",
      "e in 'Taqi KHAN Tha Beint' is a vowel\n",
      "i in 'Taqi KHAN Tha Beint' is a vowel\n"
     ]
    }
   ],
   "execution_count": 9
  }
 ],
 "metadata": {
  "kernelspec": {
   "display_name": "Python 3",
   "language": "python",
   "name": "python3"
  },
  "language_info": {
   "codemirror_mode": {
    "name": "ipython",
    "version": 2
   },
   "file_extension": ".py",
   "mimetype": "text/x-python",
   "name": "python",
   "nbconvert_exporter": "python",
   "pygments_lexer": "ipython2",
   "version": "2.7.6"
  }
 },
 "nbformat": 4,
 "nbformat_minor": 5
}
