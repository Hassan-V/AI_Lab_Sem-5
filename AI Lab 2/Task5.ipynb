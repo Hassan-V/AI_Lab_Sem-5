{
 "cells": [
  {
   "cell_type": "code",
   "execution_count": 5,
   "id": "initial_id",
   "metadata": {
    "ExecuteTime": {
     "end_time": "2024-10-28T18:25:40.928863Z",
     "start_time": "2024-10-28T18:25:40.906770Z"
    }
   },
   "outputs": [],
   "source": [
    "import pandas as pd\n",
    "\n",
    "employee_data = pd.read_csv('dataset.csv', usecols=[0,1,2,20])"
   ]
  },
  {
   "cell_type": "code",
   "execution_count": 6,
   "id": "1f23727976d1d8c0",
   "metadata": {
    "ExecuteTime": {
     "end_time": "2024-10-28T18:25:41.113117Z",
     "start_time": "2024-10-28T18:25:41.104517Z"
    }
   },
   "outputs": [
    {
     "name": "stdout",
     "output_type": "stream",
     "text": [
      "      EmpID FirstName    LastName GenderCode\n",
      "0      3427     Uriah     Bridges     Female\n",
      "1      3428     Paula       Small       Male\n",
      "2      3429    Edward        Buck       null\n",
      "3      3430   Michael     Riordan       Male\n",
      "4      3431   Jasmine       Onque     Female\n",
      "...     ...       ...         ...        ...\n",
      "2995   3422    Jakobe    Erickson     Female\n",
      "2996   3423    Adyson  Strickland       Male\n",
      "2997   3424   Annabel     Wilkins       Male\n",
      "2998   3425    Kendra       Braun     Female\n",
      "2999   3426     Chace        Kerr     Female\n",
      "\n",
      "[3000 rows x 4 columns]\n"
     ]
    }
   ],
   "source": [
    "print(employee_data.fillna(\"null\"))"
   ]
  },
  {
   "cell_type": "code",
   "execution_count": null,
   "id": "4a20ddf947a21782",
   "metadata": {},
   "outputs": [],
   "source": []
  }
 ],
 "metadata": {
  "kernelspec": {
   "display_name": "Python 3 (ipykernel)",
   "language": "python",
   "name": "python3"
  },
  "language_info": {
   "codemirror_mode": {
    "name": "ipython",
    "version": 3
   },
   "file_extension": ".py",
   "mimetype": "text/x-python",
   "name": "python",
   "nbconvert_exporter": "python",
   "pygments_lexer": "ipython3",
   "version": "3.12.3"
  }
 },
 "nbformat": 4,
 "nbformat_minor": 5
}
