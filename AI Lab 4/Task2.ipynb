{
 "cells": [
  {
   "metadata": {
    "ExecuteTime": {
     "end_time": "2024-11-12T08:11:30.905081Z",
     "start_time": "2024-11-12T08:11:30.391309Z"
    }
   },
   "cell_type": "code",
   "source": [
    "from sklearn.model_selection import train_test_split\n",
    "from CustomNaiveBayes import CustomNaiveBayes\n",
    "from sklearn.metrics import accuracy_score\n",
    "from sklearn.preprocessing import LabelEncoder\n",
    "\n",
    "import pandas as pd\n",
    "\n",
    "df = pd.read_csv('task2.csv')"
   ],
   "id": "dc806e6f15cb00dd",
   "outputs": [],
   "execution_count": 1
  },
  {
   "metadata": {
    "ExecuteTime": {
     "end_time": "2024-11-12T08:11:33.213060Z",
     "start_time": "2024-11-12T08:11:33.210373Z"
    }
   },
   "cell_type": "code",
   "source": [
    "le_age = LabelEncoder()\n",
    "le_income = LabelEncoder()\n",
    "le_student = LabelEncoder()\n",
    "le_credit_rating = LabelEncoder()\n",
    "le_buys_computer = LabelEncoder()"
   ],
   "id": "97beea70d990fcd7",
   "outputs": [],
   "execution_count": 2
  },
  {
   "metadata": {
    "ExecuteTime": {
     "end_time": "2024-11-12T08:11:34.582312Z",
     "start_time": "2024-11-12T08:11:34.575737Z"
    }
   },
   "cell_type": "code",
   "source": [
    "df['age'] = le_age.fit_transform(df['age'])\n",
    "df['income'] = le_income.fit_transform(df['income'])\n",
    "df['student'] = le_student.fit_transform(df['student'])\n",
    "df['credit_rating'] = le_credit_rating.fit_transform(df['credit_rating'])\n",
    "df['buys_computer'] = le_buys_computer.fit_transform(df['buys_computer'])"
   ],
   "id": "809feb4ffa0cc857",
   "outputs": [],
   "execution_count": 3
  },
  {
   "metadata": {
    "ExecuteTime": {
     "end_time": "2024-11-12T08:11:36.096506Z",
     "start_time": "2024-11-12T08:11:36.093230Z"
    }
   },
   "cell_type": "code",
   "source": [
    "X = df[['age', 'income', 'student', 'credit_rating']]\n",
    "y = df['buys_computer']"
   ],
   "id": "415d8b593970bbcf",
   "outputs": [],
   "execution_count": 4
  },
  {
   "metadata": {
    "ExecuteTime": {
     "end_time": "2024-11-12T08:12:34.257441Z",
     "start_time": "2024-11-12T08:12:34.252139Z"
    }
   },
   "cell_type": "code",
   "source": [
    "input_data = pd.DataFrame([[le_age.transform(['youth'])[0], le_income.transform(['medium'])[0], \n",
    "                            le_student.transform(['yes'])[0], le_credit_rating.transform(['fair'])[0]]],\n",
    "                          columns=['age', 'income', 'student', 'credit_rating'])\n",
    "\n",
    "X_train, X_test, y_train, y_test = train_test_split(X, y, test_size=0.1, random_state=0)"
   ],
   "id": "55c068330b5bd9d1",
   "outputs": [],
   "execution_count": 26
  },
  {
   "metadata": {
    "ExecuteTime": {
     "end_time": "2024-11-12T08:12:34.969031Z",
     "start_time": "2024-11-12T08:12:34.962070Z"
    }
   },
   "cell_type": "code",
   "source": [
    "nb = CustomNaiveBayes()\n",
    "nb.fit(X_train, y_train)"
   ],
   "id": "a8744a0daa406cc9",
   "outputs": [],
   "execution_count": 27
  },
  {
   "metadata": {
    "ExecuteTime": {
     "end_time": "2024-11-12T08:12:36.412724Z",
     "start_time": "2024-11-12T08:12:36.408840Z"
    }
   },
   "cell_type": "code",
   "source": [
    "y_pred = nb.predict(X_test)\n",
    "accuracy = accuracy_score(y_test, y_pred)"
   ],
   "id": "eab154df8c6f747b",
   "outputs": [],
   "execution_count": 28
  },
  {
   "metadata": {
    "ExecuteTime": {
     "end_time": "2024-11-12T08:12:37.189961Z",
     "start_time": "2024-11-12T08:12:37.187035Z"
    }
   },
   "cell_type": "code",
   "source": "print(f'Accuracy: {accuracy}')",
   "id": "f5fa7593d45385ee",
   "outputs": [
    {
     "name": "stdout",
     "output_type": "stream",
     "text": [
      "Accuracy: 1.0\n"
     ]
    }
   ],
   "execution_count": 29
  },
  {
   "metadata": {
    "ExecuteTime": {
     "end_time": "2024-11-12T08:12:38.407170Z",
     "start_time": "2024-11-12T08:12:38.403674Z"
    }
   },
   "cell_type": "code",
   "source": [
    "actual_predict = nb.predict(input_data)\n",
    "print(f'Prediction: {le_buys_computer.inverse_transform(actual_predict)}')"
   ],
   "id": "43a822a0ea50ddc1",
   "outputs": [
    {
     "name": "stdout",
     "output_type": "stream",
     "text": [
      "Prediction: ['yes']\n"
     ]
    }
   ],
   "execution_count": 30
  },
  {
   "metadata": {},
   "cell_type": "code",
   "outputs": [],
   "execution_count": null,
   "source": "",
   "id": "b14561949c225289"
  }
 ],
 "metadata": {
  "kernelspec": {
   "display_name": "Python 3",
   "language": "python",
   "name": "python3"
  },
  "language_info": {
   "codemirror_mode": {
    "name": "ipython",
    "version": 2
   },
   "file_extension": ".py",
   "mimetype": "text/x-python",
   "name": "python",
   "nbconvert_exporter": "python",
   "pygments_lexer": "ipython2",
   "version": "2.7.6"
  }
 },
 "nbformat": 4,
 "nbformat_minor": 5
}
