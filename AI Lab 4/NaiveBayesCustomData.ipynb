{
 "cells": [
  {
   "cell_type": "code",
   "id": "initial_id",
   "metadata": {
    "collapsed": true,
    "ExecuteTime": {
     "end_time": "2024-11-12T15:53:37.840376Z",
     "start_time": "2024-11-12T15:52:59.983626Z"
    }
   },
   "source": [
    "from sklearn.naive_bayes import CategoricalNB\n",
    "from sklearn.model_selection import train_test_split\n",
    "import pandas as pd\n",
    "\n",
    "file_path = 'spw.xlsx'\n",
    "df = pd.read_excel(file_path)"
   ],
   "outputs": [],
   "execution_count": 3
  },
  {
   "metadata": {
    "ExecuteTime": {
     "end_time": "2024-11-12T15:59:22.297201Z",
     "start_time": "2024-11-12T15:59:18.678075Z"
    }
   },
   "cell_type": "code",
   "source": [
    "df = df[['TOWN', 'DISTRIBUTOR', 'NAME']].head(400000)\n",
    "df['DISTRIBUTOR'] = df['DISTRIBUTOR'].astype(int)\n",
    "df['TOWN'] = df['TOWN'].astype(int)\n",
    "\n",
    "X = df[['DISTRIBUTOR', 'TOWN']]\n",
    "y = df['NAME']\n",
    "\n",
    "X_train, X_test, y_train, y_test = train_test_split(X, y, test_size=0.2, random_state=42)\n",
    "\n",
    "gnb = CategoricalNB()\n",
    "\n",
    "gnb.fit(X_train, y_train)\n",
    "predictions = gnb.predict(X_test)\n",
    "\n",
    "accuracy = gnb.score(X_test, y_test)"
   ],
   "id": "51e06da42a7e0f4e",
   "outputs": [],
   "execution_count": 19
  },
  {
   "metadata": {
    "ExecuteTime": {
     "end_time": "2024-11-12T15:59:23.410453Z",
     "start_time": "2024-11-12T15:59:23.400480Z"
    }
   },
   "cell_type": "code",
   "source": [
    "print(\"Predictions:\", predictions)\n",
    "print(\"Accuracy:\", accuracy)"
   ],
   "id": "95cafe93e42fae4d",
   "outputs": [
    {
     "name": "stdout",
     "output_type": "stream",
     "text": [
      "Predictions: ['MALIK KS' 'FARAH SOAP**' 'Gul Hassan' 'MALIK KS' 'AL MADINA K/S'\n",
      " 'Gul Hassan' 'MALIK KS' 'ASIF 2' 'MALIK KS' '786 Store' 'Zain G/S'\n",
      " 'Zain G/S' 'Gul Hassan' 'ASIF 2' 'FARAH SOAP**' 'MALIK KS' 'AZAM C/F'\n",
      " 'Zain G/S' 'MALIK KS' 'AL MADINA K/S' 'AKHTIYAR AHMED' 'Zain G/S'\n",
      " 'AL MADINA K/S' 'MALIK KS' 'AL MADINA K/S' 'AL MADINA K/S'\n",
      " 'Al Madina K/S' 'ASIF 2' 'MALIK KS' 'ASIF 2' 'FATIMA STORE'\n",
      " 'Al Madina K/S' 'MALIK KS' 'AKHTIYAR AHMED' 'AL MADINA K/S'\n",
      " 'FATIMA STORE' 'Zain G/S' 'MALIK KS' 'MALIK KS' 'MAJID' 'FATIMA STORE'\n",
      " 'Al Madina K/S' 'FATIMA STORE' 'ASIF 2' 'FATIMA STORE' 'AL MADINA K/S'\n",
      " 'MALIK KS' 'Gul Hassan' 'FATIMA STORE' 'Al Madina K/S' 'Gul Hassan'\n",
      " 'MADINA K/S' 'FATIMA STORE' 'MALIK KS' 'MAJID' 'Zain G/S' 'MALIK KS'\n",
      " '786 Store' 'AL MADINA K/S' 'Zain G/S' 'FATIMA STORE' '786 Store'\n",
      " 'Gul Hassan' 'AL MADINA K/S' 'Zain G/S' 'Zain G/S' 'MALIK KS'\n",
      " 'Gul Hassan' 'ABDUL BAKI' 'Gul Hassan' 'FATIMA STORE' 'Gul Hassan'\n",
      " 'FARAH SOAP**' 'Abid Cosmetic' 'AZAM C/F' 'Muhammad Azeem Kiryana'\n",
      " 'MALIK KS' 'Zain G/S' 'MALIK KS' 'AL MADINA K/S' 'Gul Hassan'\n",
      " 'FATIMA STORE' 'AL MADINA K/S' 'ABDUL BAKI' 'AL MADINA K/S' 'Gul Hassan'\n",
      " 'ASIF 2' 'Gul Hassan' 'MAJID' 'FATIMA STORE' 'FATIMA STORE'\n",
      " 'AL MADINA K/S' 'MALIK KS' 'FATIMA STORE' 'Gul Hassan' 'AL MADINA K/S'\n",
      " 'MALIK KS' 'Zain G/S' 'Al Madina K/S' 'MAJID' 'HUSSAIN TRADERS'\n",
      " 'AL MADINA K/S' 'MALIK KS' 'AZAM C/F' 'Gul Hassan' 'Zain G/S' 'MALIK KS'\n",
      " 'ASIF 2' 'Zain G/S' 'Zain G/S' 'MALIK KS' 'Zain G/S' 'ASIF 2' 'Zain G/S'\n",
      " 'Zain G/S' 'AL MADINA K/S' 'Al Madina K/S' 'ASIF 2' 'Gul Hassan'\n",
      " 'AZAM C/F' 'MALIK KS' 'FATIMA STORE' 'Imran Cosmetics' 'FATIMA STORE'\n",
      " 'AZAM C/F' 'MALIK KS' 'MALIK KS' 'FATIMA STORE' 'Gul Hassan' 'Zain G/S'\n",
      " 'Gul Hassan' 'Zain G/S' 'AL MADINA K/S' 'ASIF 2' 'MALIK KS' '786 Store'\n",
      " 'Zain G/S' 'FATIMA STORE' 'ABDUL BAKI' 'FATIMA STORE' 'Zain G/S'\n",
      " 'FATIMA STORE' 'Zain G/S' 'FATIMA STORE' 'MALIK KS' 'Gul Hassan'\n",
      " 'Zain G/S' 'FATIMA STORE' 'Zain G/S' 'AL MADINA K/S' 'Zain G/S'\n",
      " 'Zain G/S' 'ASIF 2' 'AL MADINA K/S' 'ASIF 2' 'Zain G/S' 'AZAM C/F'\n",
      " 'MALIK KS' 'Al Madina K/S' 'Zain G/S' 'Gul Hassan' 'MALIK KS' 'Zain G/S'\n",
      " 'Zain G/S' 'Gul Hassan' 'FARAH SOAP**' 'FATIMA STORE' 'Zain G/S'\n",
      " 'FATIMA STORE' 'AZAM C/F' 'FATIMA STORE' 'MALIK KS' 'Zain G/S' 'ASIF 2'\n",
      " 'FARAH SOAP**' 'MURSHID K/S' 'AL MADINA K/S' 'FATIMA STORE' 'Zain G/S'\n",
      " 'ASIF 2' 'Gul Hassan' 'Gul Hassan' 'S-S-D PLASMA' 'MALIK KS'\n",
      " 'Al Madina K/S' 'Al Madina K/S' 'AZAM C/F' 'AL MADINA K/S' 'Gul Hassan'\n",
      " 'Zain G/S' 'ASIF 2' '786 Store' 'MALIK KS' 'ABDUL BAKI' 'AZAM C/F'\n",
      " 'AL MADINA K/S' 'FATIMA STORE' 'AL MADINA K/S' 'MALIK KS' 'Zain G/S']\n",
      "Accuracy: 0.0\n"
     ]
    }
   ],
   "execution_count": 20
  },
  {
   "metadata": {},
   "cell_type": "code",
   "outputs": [],
   "execution_count": null,
   "source": "",
   "id": "9e6ac0c7a50f9c50"
  }
 ],
 "metadata": {
  "kernelspec": {
   "display_name": "Python 3",
   "language": "python",
   "name": "python3"
  },
  "language_info": {
   "codemirror_mode": {
    "name": "ipython",
    "version": 2
   },
   "file_extension": ".py",
   "mimetype": "text/x-python",
   "name": "python",
   "nbconvert_exporter": "python",
   "pygments_lexer": "ipython2",
   "version": "2.7.6"
  }
 },
 "nbformat": 4,
 "nbformat_minor": 5
}
