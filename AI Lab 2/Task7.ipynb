{
 "cells": [
  {
   "cell_type": "code",
   "execution_count": 1,
   "id": "initial_id",
   "metadata": {
    "ExecuteTime": {
     "end_time": "2024-10-29T14:26:17.309485Z",
     "start_time": "2024-10-29T14:26:16.613367Z"
    }
   },
   "outputs": [],
   "source": [
    "import pandas as pd"
   ]
  },
  {
   "cell_type": "code",
   "execution_count": 5,
   "id": "433800db085f063a",
   "metadata": {
    "ExecuteTime": {
     "end_time": "2024-10-29T17:19:28.562403Z",
     "start_time": "2024-10-29T17:19:28.555574Z"
    }
   },
   "outputs": [],
   "source": [
    "def standardization(df, feature):\n",
    "    mean = df[feature].mean()\n",
    "    std_dev = df[feature].std()\n",
    "    return (df[feature] - mean) / std_dev"
   ]
  },
  {
   "cell_type": "code",
   "execution_count": 6,
   "id": "5927fda4d3d827d6",
   "metadata": {
    "ExecuteTime": {
     "end_time": "2024-10-29T17:19:28.990690Z",
     "start_time": "2024-10-29T17:19:28.984707Z"
    }
   },
   "outputs": [],
   "source": [
    "data = {\n",
    "    'Age': [25, 30, 35, 40, 45],\n",
    "    'Salary': [30000, 40000, 50000, 60000, 70000]\n",
    "}\n",
    "df = pd.DataFrame(data)"
   ]
  },
  {
   "cell_type": "code",
   "execution_count": 8,
   "id": "a89fb2282b91b35",
   "metadata": {
    "ExecuteTime": {
     "end_time": "2024-10-29T18:06:35.995409Z",
     "start_time": "2024-10-29T18:06:35.984024Z"
    }
   },
   "outputs": [],
   "source": [
    "df[\"Age_Normal\"] = standardization(df, \"Age\")\n",
    "df[\"Salary_Normal\"] = standardization(df, \"Salary\")"
   ]
  },
  {
   "cell_type": "code",
   "execution_count": 9,
   "id": "c199882279a31ff7",
   "metadata": {
    "ExecuteTime": {
     "end_time": "2024-10-29T18:07:16.846885Z",
     "start_time": "2024-10-29T18:07:16.840901Z"
    },
    "scrolled": true
   },
   "outputs": [
    {
     "name": "stdout",
     "output_type": "stream",
     "text": [
      "\n",
      "Standardization\n",
      "\n",
      "   Age  Salary  Age_Normal  Salary_Normal\n",
      "0   25   30000   -1.264911      -1.264911\n",
      "1   30   40000   -0.632456      -0.632456\n",
      "2   35   50000    0.000000       0.000000\n",
      "3   40   60000    0.632456       0.632456\n",
      "4   45   70000    1.264911       1.264911\n"
     ]
    }
   ],
   "source": [
    "print(\"\\nStandardization\\n\")\n",
    "print(df)"
   ]
  },
  {
   "cell_type": "code",
   "execution_count": null,
   "id": "6fe9c3cfac9f6648",
   "metadata": {},
   "outputs": [],
   "source": []
  }
 ],
 "metadata": {
  "kernelspec": {
   "display_name": "Python 3 (ipykernel)",
   "language": "python",
   "name": "python3"
  },
  "language_info": {
   "codemirror_mode": {
    "name": "ipython",
    "version": 3
   },
   "file_extension": ".py",
   "mimetype": "text/x-python",
   "name": "python",
   "nbconvert_exporter": "python",
   "pygments_lexer": "ipython3",
   "version": "3.12.3"
  }
 },
 "nbformat": 4,
 "nbformat_minor": 5
}
