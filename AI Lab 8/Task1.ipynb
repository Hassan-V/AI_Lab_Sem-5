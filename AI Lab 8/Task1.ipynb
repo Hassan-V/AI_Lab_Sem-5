{
 "cells": [
  {
   "cell_type": "code",
   "id": "f3ec99cb847a0fc9",
   "metadata": {
    "ExecuteTime": {
     "end_time": "2025-01-07T19:11:00.734591Z",
     "start_time": "2025-01-07T19:10:57.293749Z"
    }
   },
   "source": [
    "import pandas as pd\n",
    "from sklearn.metrics.pairwise import cosine_similarity\n",
    "\n",
    "movies_df = pd.read_csv('movies.csv')\n",
    "ratings_df = pd.read_csv('ratings.csv')\n",
    "\n",
    "ratings_matrix = ratings_df.pivot_table(index='userId', columns='movieId', values='rating').fillna(0)\n",
    "\n",
    "movie_similarity = cosine_similarity(ratings_matrix.T)\n",
    "\n",
    "movie_similarity_df = pd.DataFrame(movie_similarity, index=ratings_matrix.columns, columns=ratings_matrix.columns)"
   ],
   "outputs": [],
   "execution_count": 5
  },
  {
   "metadata": {
    "collapsed": true,
    "ExecuteTime": {
     "end_time": "2025-01-07T19:12:55.014376Z",
     "start_time": "2025-01-07T19:12:54.935853Z"
    }
   },
   "cell_type": "code",
   "source": [
    "def get_movie_recommendations(user_id, n_recommendations=5):\n",
    "    if user_id not in ratings_matrix.index:\n",
    "        return \"User not found in the dataset\"\n",
    "    \n",
    "    user_ratings = ratings_matrix.loc[user_id]\n",
    "    \n",
    "    unrated_movies = user_ratings[user_ratings == 0].index\n",
    "    \n",
    "    predicted_ratings = {}\n",
    "    \n",
    "    for movie_id in unrated_movies:\n",
    "        similar_movies = movie_similarity_df[movie_id]\n",
    "        user_rated_similar = user_ratings[user_ratings > 0].index\n",
    "        \n",
    "        if len(user_rated_similar) > 0:\n",
    "            numerator = sum(similar_movies[other_movie] * user_ratings[other_movie] for other_movie in user_rated_similar)\n",
    "            denominator = sum(abs(similar_movies[other_movie]) for other_movie in user_rated_similar)\n",
    "            \n",
    "            if denominator != 0:\n",
    "                predicted_ratings[movie_id] = numerator / denominator\n",
    "    \n",
    "    recommended_movies = sorted(predicted_ratings.items(), key=lambda x: x[1], reverse=True)[:n_recommendations]\n",
    "    \n",
    "    recommendations = []\n",
    "    for movie_id, pred_rating in recommended_movies:\n",
    "        movie_title = movies_df[movies_df['movieId'] == movie_id]['title'].iloc[0]\n",
    "        recommendations.append({\n",
    "            'movie_id': movie_id,\n",
    "            'title': movie_title,\n",
    "            'predicted_rating': round(pred_rating, 2)\n",
    "        })\n",
    "    \n",
    "    return recommendations"
   ],
   "id": "initial_id",
   "outputs": [],
   "execution_count": 7
  },
  {
   "cell_type": "code",
   "id": "6fefc42e5271c48f",
   "metadata": {
    "ExecuteTime": {
     "end_time": "2025-01-07T19:13:17.920810Z",
     "start_time": "2025-01-07T19:12:56.666898Z"
    }
   },
   "source": [
    "user_id = 7  \n",
    "recommendations = get_movie_recommendations(user_id)\n",
    "print(f\"Movie recommendations for user {user_id}:\")\n",
    "for i, rec in enumerate(recommendations, 1):\n",
    "    print(f\"{i}. {rec['title']} (Predicted rating: {rec['predicted_rating']})\")"
   ],
   "outputs": [
    {
     "name": "stdout",
     "output_type": "stream",
     "text": [
      "Movie recommendations for user 7:\n",
      "1. Get on Up (2014) (Predicted rating: 5.0)\n",
      "2. Madame Sousatzka (1988) (Predicted rating: 4.88)\n",
      "3. Audrey Rose (1977) (Predicted rating: 4.79)\n",
      "4. Friday the 13th Part VII: The New Blood (1988) (Predicted rating: 4.79)\n",
      "5. Howling II: Your Sister Is a Werewolf (1985) (Predicted rating: 4.79)\n"
     ]
    }
   ],
   "execution_count": 8
  }
 ],
 "metadata": {
  "kernelspec": {
   "display_name": "Python 3",
   "language": "python",
   "name": "python3"
  },
  "language_info": {
   "codemirror_mode": {
    "name": "ipython",
    "version": 2
   },
   "file_extension": ".py",
   "mimetype": "text/x-python",
   "name": "python",
   "nbconvert_exporter": "python",
   "pygments_lexer": "ipython2",
   "version": "2.7.6"
  }
 },
 "nbformat": 4,
 "nbformat_minor": 5
}
