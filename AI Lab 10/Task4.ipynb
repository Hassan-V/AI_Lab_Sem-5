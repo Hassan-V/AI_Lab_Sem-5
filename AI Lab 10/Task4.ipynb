{
 "cells": [
  {
   "metadata": {
    "ExecuteTime": {
     "end_time": "2025-01-07T20:03:57.781103Z",
     "start_time": "2025-01-07T20:03:57.769438Z"
    }
   },
   "cell_type": "code",
   "source": [
    "class Employee:\n",
    "    empCount = 0\n",
    "\n",
    "    def __init__(self, name, salary):\n",
    "        self.name = name\n",
    "        self.salary = salary\n",
    "        Employee.empCount += 1\n",
    "\n",
    "    def displayCount(self):\n",
    "        print(\"Total Employee %d\" % Employee.empCount)\n",
    "\n",
    "    def displayEmployee(self):\n",
    "        print(\"Name : \", self.name, \", Salary: \", self.salary)"
   ],
   "id": "e3ca1b7615a98675",
   "outputs": [],
   "execution_count": 2
  },
  {
   "metadata": {
    "ExecuteTime": {
     "end_time": "2025-01-07T20:03:59.287790Z",
     "start_time": "2025-01-07T20:03:59.274505Z"
    }
   },
   "cell_type": "code",
   "source": [
    "emp1 = Employee(\"Arqum Chacha\", 250000)\n",
    "emp2 = Employee(\"Mascot Gorilla\", 50000000)"
   ],
   "id": "79546241a55d39fb",
   "outputs": [],
   "execution_count": 3
  },
  {
   "metadata": {
    "ExecuteTime": {
     "end_time": "2025-01-07T20:04:00.705080Z",
     "start_time": "2025-01-07T20:04:00.698982Z"
    }
   },
   "cell_type": "code",
   "source": "emp1.displayCount()",
   "id": "aaddd8923e8a989c",
   "outputs": [
    {
     "name": "stdout",
     "output_type": "stream",
     "text": [
      "Total Employee 2\n"
     ]
    }
   ],
   "execution_count": 4
  },
  {
   "metadata": {
    "ExecuteTime": {
     "end_time": "2025-01-07T20:04:02.076771Z",
     "start_time": "2025-01-07T20:04:02.069599Z"
    }
   },
   "cell_type": "code",
   "source": [
    "emp1.displayEmployee()\n",
    "emp2.displayEmployee()"
   ],
   "id": "869affc2b13bcfee",
   "outputs": [
    {
     "name": "stdout",
     "output_type": "stream",
     "text": [
      "Name :  Arqum Chacha , Salary:  250000\n",
      "Name :  Mascot Gorilla , Salary:  50000000\n"
     ]
    }
   ],
   "execution_count": 5
  }
 ],
 "metadata": {
  "kernelspec": {
   "display_name": "Python 3",
   "language": "python",
   "name": "python3"
  },
  "language_info": {
   "codemirror_mode": {
    "name": "ipython",
    "version": 2
   },
   "file_extension": ".py",
   "mimetype": "text/x-python",
   "name": "python",
   "nbconvert_exporter": "python",
   "pygments_lexer": "ipython2",
   "version": "2.7.6"
  }
 },
 "nbformat": 4,
 "nbformat_minor": 5
}
