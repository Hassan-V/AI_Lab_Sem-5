{
 "cells": [
  {
   "cell_type": "code",
   "execution_count": 4,
   "id": "initial_id",
   "metadata": {
    "ExecuteTime": {
     "end_time": "2024-10-21T18:58:37.482921Z",
     "start_time": "2024-10-21T18:58:37.478045Z"
    },
    "collapsed": true,
    "jupyter": {
     "outputs_hidden": true
    }
   },
   "outputs": [],
   "source": [
    "from math import pi\n",
    "\n",
    "def calculate_area(radius: float = 1.25) -> float:\n",
    "    return pi * radius * radius"
   ]
  },
  {
   "cell_type": "code",
   "execution_count": 5,
   "id": "86ed4769f674ea41",
   "metadata": {
    "ExecuteTime": {
     "end_time": "2024-10-21T18:58:37.691386Z",
     "start_time": "2024-10-21T18:58:37.686820Z"
    }
   },
   "outputs": [],
   "source": [
    "def main(depth:int = 2) -> None:\n",
    "    radius = input(\"Enter the radius of the circle: \")\n",
    "    if radius.isnumeric():\n",
    "        area = calculate_area(int(radius))\n",
    "        print(f\"The area is {area}\")\n",
    "    elif depth == 0:\n",
    "        print(\"Invalid Radius input! Exiting\")\n",
    "    else:\n",
    "        main(depth-1)"
   ]
  },
  {
   "cell_type": "code",
   "execution_count": 6,
   "id": "8cf50f7bc0b2c0de",
   "metadata": {
    "ExecuteTime": {
     "end_time": "2024-10-21T18:58:41.754215Z",
     "start_time": "2024-10-21T18:58:37.960986Z"
    }
   },
   "outputs": [
    {
     "name": "stdout",
     "output_type": "stream",
     "text": [
      "The area is 7853.981633974483\n"
     ]
    }
   ],
   "source": [
    "if __name__ == \"__main__\":\n",
    "    main()"
   ]
  }
 ],
 "metadata": {
  "kernelspec": {
   "display_name": "Python 3 (ipykernel)",
   "language": "python",
   "name": "python3"
  },
  "language_info": {
   "codemirror_mode": {
    "name": "ipython",
    "version": 3
   },
   "file_extension": ".py",
   "mimetype": "text/x-python",
   "name": "python",
   "nbconvert_exporter": "python",
   "pygments_lexer": "ipython3",
   "version": "3.11.9"
  }
 },
 "nbformat": 4,
 "nbformat_minor": 5
}
