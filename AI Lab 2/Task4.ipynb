{
 "cells": [
  {
   "cell_type": "code",
   "id": "initial_id",
   "metadata": {
    "collapsed": true,
    "ExecuteTime": {
     "end_time": "2024-10-28T18:11:35.184935Z",
     "start_time": "2024-10-28T18:11:35.125586Z"
    }
   },
   "source": [
    "import pandas as pd\n",
    "\n",
    "employees = pd.read_csv('dataset.csv')\n",
    "\n",
    "print(employees[3:])"
   ],
   "outputs": [
    {
     "name": "stdout",
     "output_type": "stream",
     "text": [
      "      EmpID FirstName    LastName  StartDate   ExitDate  \\\n",
      "3      3430   Michael     Riordan  21-Jun-21        NaN   \n",
      "4      3431   Jasmine       Onque  29-Jun-19        NaN   \n",
      "5      3432     Maruk      Fraval  17-Jan-20        NaN   \n",
      "6      3433     Latia       Costa   6-Apr-22   3-Jul-23   \n",
      "7      3434  Sharlene       Terry   6-Nov-20  29-Jan-23   \n",
      "...     ...       ...         ...        ...        ...   \n",
      "2995   3422    Jakobe    Erickson  22-Jun-22   7-Aug-22   \n",
      "2996   3423    Adyson  Strickland  28-Dec-20        NaN   \n",
      "2997   3424   Annabel     Wilkins   9-Dec-20   4-Aug-22   \n",
      "2998   3425    Kendra       Braun  28-May-19  23-Oct-21   \n",
      "2999   3426     Chace        Kerr  27-Apr-22        NaN   \n",
      "\n",
      "                        Title          Supervisor  \\\n",
      "3          Area Sales Manager      Rebekah Wright   \n",
      "4          Area Sales Manager           Jason Kim   \n",
      "5          Area Sales Manager        Sheri Campos   \n",
      "6          Area Sales Manager         Jacob Braun   \n",
      "7          Area Sales Manager       Tracy Marquez   \n",
      "...                       ...                 ...   \n",
      "2995  Production Technician I      Bethany Carter   \n",
      "2996  Production Technician I     Caroline Harris   \n",
      "2997  Production Technician I  Mr. James Castillo   \n",
      "2998  Production Technician I       Michael Woods   \n",
      "2999  Production Technician I       Javier Mccall   \n",
      "\n",
      "                              ADEmail BusinessUnit          EmployeeStatus  \\\n",
      "3       michael.riordan@bilearner.com         CCDR                  Active   \n",
      "4         jasmine.onque@bilearner.com          TNS                  Active   \n",
      "5          maruk.fraval@bilearner.com          BPC                  Active   \n",
      "6           latia.costa@bilearner.com          WBL                  Active   \n",
      "7        sharlene.terry@bilearner.com         CCDR                  Active   \n",
      "...                               ...          ...                     ...   \n",
      "2995    jakobe.erickson@bilearner.com          PYZ        Leave of Absence   \n",
      "2996  adyson.strickland@bilearner.com          SVG                  Active   \n",
      "2997    annabel.wilkins@bilearner.com          TNS  Voluntarily Terminated   \n",
      "2998       kendra.braun@bilearner.com          WBL  Voluntarily Terminated   \n",
      "2999         chace.kerr@bilearner.com          BPC                  Active   \n",
      "\n",
      "      ...               Division         DOB State JobFunctionDescription  \\\n",
      "3     ...   Finance & Accounting    4/4/1998    ND                  Clerk   \n",
      "4     ...          General - Con  29-08-1969    FL                Laborer   \n",
      "5     ...       Field Operations    3/4/1949    CT                 Driver   \n",
      "6     ...          General - Eng    1/7/1942    CA             Technician   \n",
      "7     ...              Engineers    7/3/1957    OR               Engineer   \n",
      "...   ...                    ...         ...   ...                    ...   \n",
      "2995  ...              Engineers  23-06-1998    MA        Model Assistant   \n",
      "2996  ...              Engineers   10/6/2001    MA               Engineer   \n",
      "2997  ...  Wireline Construction  27-01-1997    MA                Laborer   \n",
      "2998  ...                 Aerial  28-05-1954    MA                Foreman   \n",
      "2999  ...       Field Operations   11/9/1990    MA   Warehouse Technician   \n",
      "\n",
      "     GenderCode LocationCode  RaceDesc MaritalDesc Performance Score  \\\n",
      "3          Male        58782     Other      Single       Fully Meets   \n",
      "4        Female        33174     Other     Married       Fully Meets   \n",
      "5          Male         6050     Black     Married       Fully Meets   \n",
      "6        Female        90007  Hispanic    Divorced           Exceeds   \n",
      "7        Female        97756     White    Divorced       Fully Meets   \n",
      "...         ...          ...       ...         ...               ...   \n",
      "2995     Female        44500     Other     Widowed       Fully Meets   \n",
      "2996       Male        35444     Black     Widowed       Fully Meets   \n",
      "2997       Male         6608     White      Single       Fully Meets   \n",
      "2998     Female         3807  Hispanic    Divorced       Fully Meets   \n",
      "2999     Female        57487     White     Married       Fully Meets   \n",
      "\n",
      "     Current Employee Rating  \n",
      "3                          2  \n",
      "4                          3  \n",
      "5                          3  \n",
      "6                          4  \n",
      "7                          2  \n",
      "...                      ...  \n",
      "2995                       3  \n",
      "2996                       3  \n",
      "2997                       2  \n",
      "2998                       2  \n",
      "2999                       2  \n",
      "\n",
      "[2997 rows x 26 columns]\n"
     ]
    }
   ],
   "execution_count": 3
  }
 ],
 "metadata": {
  "kernelspec": {
   "display_name": "Python 3",
   "language": "python",
   "name": "python3"
  },
  "language_info": {
   "codemirror_mode": {
    "name": "ipython",
    "version": 2
   },
   "file_extension": ".py",
   "mimetype": "text/x-python",
   "name": "python",
   "nbconvert_exporter": "python",
   "pygments_lexer": "ipython2",
   "version": "2.7.6"
  }
 },
 "nbformat": 4,
 "nbformat_minor": 5
}
