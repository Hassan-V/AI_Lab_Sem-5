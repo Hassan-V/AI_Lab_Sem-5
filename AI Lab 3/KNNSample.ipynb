{
 "cells": [
  {
   "cell_type": "code",
   "execution_count": 19,
   "id": "initial_id",
   "metadata": {
    "ExecuteTime": {
     "end_time": "2024-11-05T19:53:54.485851Z",
     "start_time": "2024-11-05T19:53:54.469337Z"
    },
    "collapsed": true,
    "jupyter": {
     "outputs_hidden": true
    }
   },
   "outputs": [],
   "source": [
    "from sklearn.neighbors import KNeighborsClassifier\n",
    "from sklearn.preprocessing import LabelEncoder\n",
    "import pandas as pd\n",
    "\n",
    "dataset = pd.read_csv('data.csv')\n",
    "\n",
    "data = dataset[[\"Outlook\", \"Temperature\"]]\n",
    "labels = dataset[\"Play\"]"
   ]
  },
  {
   "cell_type": "code",
   "execution_count": 20,
   "id": "552eb39f2ee7eee",
   "metadata": {
    "ExecuteTime": {
     "end_time": "2024-11-05T19:53:54.720123Z",
     "start_time": "2024-11-05T19:53:54.709528Z"
    }
   },
   "outputs": [
    {
     "name": "stderr",
     "output_type": "stream",
     "text": [
      "C:\\Users\\happy\\AppData\\Local\\Temp\\ipykernel_6480\\1435122252.py:5: SettingWithCopyWarning: \n",
      "A value is trying to be set on a copy of a slice from a DataFrame.\n",
      "Try using .loc[row_indexer,col_indexer] = value instead\n",
      "\n",
      "See the caveats in the documentation: https://pandas.pydata.org/pandas-docs/stable/user_guide/indexing.html#returning-a-view-versus-a-copy\n",
      "  data['Outlook'] = label_encoder_outlook.fit_transform(data['Outlook'])\n",
      "C:\\Users\\happy\\AppData\\Local\\Temp\\ipykernel_6480\\1435122252.py:6: SettingWithCopyWarning: \n",
      "A value is trying to be set on a copy of a slice from a DataFrame.\n",
      "Try using .loc[row_indexer,col_indexer] = value instead\n",
      "\n",
      "See the caveats in the documentation: https://pandas.pydata.org/pandas-docs/stable/user_guide/indexing.html#returning-a-view-versus-a-copy\n",
      "  data['Temperature'] = label_encoder_temperature.fit_transform(data['Temperature'])\n"
     ]
    }
   ],
   "source": [
    "label_encoder_outlook = LabelEncoder()\n",
    "label_encoder_temperature = LabelEncoder()\n",
    "label_encoder_play = LabelEncoder()\n",
    "\n",
    "data['Outlook'] = label_encoder_outlook.fit_transform(data['Outlook'])\n",
    "data['Temperature'] = label_encoder_temperature.fit_transform(data['Temperature'])\n",
    "labels = label_encoder_play.fit_transform(labels)\n",
    "\n",
    "knn = KNeighborsClassifier(n_neighbors=1)\n",
    "knn.fit(data, labels)\n",
    "\n",
    "test_data = pd.DataFrame({\n",
    "    'Outlook': ['Overcast', 'Sunny'],\n",
    "    'Temperature': ['Cool', 'Cool']\n",
    "})"
   ]
  },
  {
   "cell_type": "code",
   "execution_count": 21,
   "id": "dc303ba5ab316b44",
   "metadata": {
    "ExecuteTime": {
     "end_time": "2024-11-05T19:53:54.947731Z",
     "start_time": "2024-11-05T19:53:54.929490Z"
    }
   },
   "outputs": [
    {
     "name": "stdout",
     "output_type": "stream",
     "text": [
      "Predictions: ['Yes' 'Yes']\n",
      "Accuracy: 0.5\n"
     ]
    }
   ],
   "source": [
    "test_data['Outlook'] = label_encoder_outlook.transform(test_data['Outlook'])\n",
    "test_data['Temperature'] = label_encoder_temperature.transform(test_data['Temperature'])\n",
    "test_labels = label_encoder_play.transform([\"Yes\", \"No\"])\n",
    "\n",
    "# Make predictions\n",
    "predictions = knn.predict(test_data)\n",
    "accuracy = knn.score(test_data, test_labels)\n",
    "\n",
    "# Decode predictions to original labels\n",
    "decoded_predictions = label_encoder_play.inverse_transform(predictions)\n",
    "\n",
    "print(\"Predictions:\", decoded_predictions)\n",
    "print(\"Accuracy:\", accuracy)"
   ]
  },
  {
   "cell_type": "code",
   "execution_count": null,
   "id": "5d53d1c8e383d446",
   "metadata": {},
   "outputs": [],
   "source": []
  }
 ],
 "metadata": {
  "kernelspec": {
   "display_name": "Python 3 (ipykernel)",
   "language": "python",
   "name": "python3"
  },
  "language_info": {
   "codemirror_mode": {
    "name": "ipython",
    "version": 3
   },
   "file_extension": ".py",
   "mimetype": "text/x-python",
   "name": "python",
   "nbconvert_exporter": "python",
   "pygments_lexer": "ipython3",
   "version": "3.12.3"
  }
 },
 "nbformat": 4,
 "nbformat_minor": 5
}
