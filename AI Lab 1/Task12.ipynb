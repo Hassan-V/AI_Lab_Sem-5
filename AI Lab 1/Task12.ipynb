{
 "cells": [
  {
   "cell_type": "code",
   "execution_count": 3,
   "id": "initial_id",
   "metadata": {
    "ExecuteTime": {
     "end_time": "2024-10-22T13:09:30.003999Z",
     "start_time": "2024-10-22T13:09:29.998500Z"
    },
    "collapsed": true,
    "jupyter": {
     "outputs_hidden": true
    }
   },
   "outputs": [],
   "source": [
    "def generate_pattern(size: int = 5) -> None:\n",
    "    for i in range(1,size+1):\n",
    "        for j in range(1,i+1):\n",
    "            if i % 5 == 0 and j == 2:\n",
    "                print(\" \", end=\"\")\n",
    "            print(i, end=\"\")\n",
    "        print()"
   ]
  },
  {
   "cell_type": "code",
   "execution_count": 9,
   "id": "58b8d5d5783df066",
   "metadata": {
    "ExecuteTime": {
     "end_time": "2024-10-22T13:10:46.786655Z",
     "start_time": "2024-10-22T13:10:46.782369Z"
    }
   },
   "outputs": [
    {
     "name": "stdout",
     "output_type": "stream",
     "text": [
      "1\n",
      "22\n",
      "333\n",
      "4444\n",
      "5 5555\n"
     ]
    }
   ],
   "source": [
    "if __name__ == \"__main__\":\n",
    "    generate_pattern()"
   ]
  },
  {
   "cell_type": "code",
   "execution_count": null,
   "id": "953a7b017e113fb8",
   "metadata": {},
   "outputs": [],
   "source": []
  }
 ],
 "metadata": {
  "kernelspec": {
   "display_name": "Python 3 (ipykernel)",
   "language": "python",
   "name": "python3"
  },
  "language_info": {
   "codemirror_mode": {
    "name": "ipython",
    "version": 3
   },
   "file_extension": ".py",
   "mimetype": "text/x-python",
   "name": "python",
   "nbconvert_exporter": "python",
   "pygments_lexer": "ipython3",
   "version": "3.11.9"
  }
 },
 "nbformat": 4,
 "nbformat_minor": 5
}
