{
 "cells": [
  {
   "cell_type": "code",
   "execution_count": 15,
   "id": "initial_id",
   "metadata": {
    "ExecuteTime": {
     "end_time": "2024-10-29T14:24:15.543439Z",
     "start_time": "2024-10-29T14:24:15.539971Z"
    }
   },
   "outputs": [],
   "source": [
    "import pandas as pd"
   ]
  },
  {
   "cell_type": "code",
   "execution_count": 27,
   "id": "6076fbeb6410a1fe",
   "metadata": {
    "ExecuteTime": {
     "end_time": "2024-10-29T17:16:40.285783Z",
     "start_time": "2024-10-29T17:16:40.280312Z"
    }
   },
   "outputs": [],
   "source": [
    "def min_max_normalization(df, feature):\n",
    "    min_val = df[feature].min()\n",
    "    max_val = df[feature].max()\n",
    "    return (df[feature] - min_val) / (max_val - min_val)"
   ]
  },
  {
   "cell_type": "code",
   "execution_count": 28,
   "id": "4a5b8bfa2a3ef390",
   "metadata": {
    "ExecuteTime": {
     "end_time": "2024-10-29T17:16:41.712886Z",
     "start_time": "2024-10-29T17:16:41.701048Z"
    }
   },
   "outputs": [],
   "source": [
    "data = {\n",
    "    'Age': [25, 30, 35, 40, 45],\n",
    "    'Salary': [30000, 40000, 50000, 60000, 70000]\n",
    "}\n",
    "df = pd.DataFrame(data)"
   ]
  },
  {
   "cell_type": "code",
   "execution_count": 29,
   "id": "af2bfb6268d4d0e0",
   "metadata": {
    "ExecuteTime": {
     "end_time": "2024-10-29T17:16:42.962029Z",
     "start_time": "2024-10-29T17:16:42.955077Z"
    }
   },
   "outputs": [],
   "source": [
    "df[\"Age_Normal\"] = min_max_normalization(df, \"Age\")\n",
    "df[\"Salary_Normal\"] = min_max_normalization(df, \"Salary\")"
   ]
  },
  {
   "cell_type": "code",
   "execution_count": 31,
   "id": "3bdbfd51d3b34def",
   "metadata": {
    "ExecuteTime": {
     "end_time": "2024-10-29T18:07:12.882078Z",
     "start_time": "2024-10-29T18:07:12.875217Z"
    }
   },
   "outputs": [
    {
     "name": "stdout",
     "output_type": "stream",
     "text": [
      "\n",
      "Normalization\n",
      "\n",
      "   Age  Salary  Age_Normal  Salary_Normal\n",
      "0   25   30000        0.00           0.00\n",
      "1   30   40000        0.25           0.25\n",
      "2   35   50000        0.50           0.50\n",
      "3   40   60000        0.75           0.75\n",
      "4   45   70000        1.00           1.00\n"
     ]
    }
   ],
   "source": [
    "print(\"\\nNormalization\\n\")\n",
    "print(df)"
   ]
  },
  {
   "cell_type": "code",
   "execution_count": null,
   "id": "22be040d25dd2d38",
   "metadata": {},
   "outputs": [],
   "source": []
  }
 ],
 "metadata": {
  "kernelspec": {
   "display_name": "Python 3 (ipykernel)",
   "language": "python",
   "name": "python3"
  },
  "language_info": {
   "codemirror_mode": {
    "name": "ipython",
    "version": 3
   },
   "file_extension": ".py",
   "mimetype": "text/x-python",
   "name": "python",
   "nbconvert_exporter": "python",
   "pygments_lexer": "ipython3",
   "version": "3.12.3"
  }
 },
 "nbformat": 4,
 "nbformat_minor": 5
}
