{
 "cells": [
  {
   "cell_type": "code",
   "id": "initial_id",
   "metadata": {
    "collapsed": true,
    "ExecuteTime": {
     "end_time": "2024-10-28T17:38:15.503784Z",
     "start_time": "2024-10-28T17:38:15.498778Z"
    }
   },
   "source": [
    "import pandas as pd\n",
    "\n",
    "data = [\n",
    "    [\"Taqumi\", 0, 20, 2],\n",
    "    [\"Marty\", 84, 35, 55],\n",
    "    [\"Gloria\", 19, 89, 99],\n",
    "    [\"Melman\", 89, 92, 100]\n",
    "            ]"
   ],
   "outputs": [],
   "execution_count": 3
  },
  {
   "metadata": {
    "ExecuteTime": {
     "end_time": "2024-10-28T17:38:16.181547Z",
     "start_time": "2024-10-28T17:38:16.175751Z"
    }
   },
   "cell_type": "code",
   "source": "data_frame = pd.DataFrame(data, columns=[\"ID\", \"Urdu\", \"English\", \"Maths\"])",
   "id": "61e8c17262fab74c",
   "outputs": [],
   "execution_count": 4
  },
  {
   "metadata": {
    "ExecuteTime": {
     "end_time": "2024-10-28T17:38:22.003218Z",
     "start_time": "2024-10-28T17:38:21.997857Z"
    }
   },
   "cell_type": "code",
   "source": "print(data_frame)",
   "id": "bbdfd7bb22db17bb",
   "outputs": [
    {
     "name": "stdout",
     "output_type": "stream",
     "text": [
      "       ID  Urdu  English  Maths\n",
      "0  Taqumi     0       20      2\n",
      "1   Marty    84       35     55\n",
      "2  Gloria    19       89     99\n",
      "3  Melman    89       92    100\n"
     ]
    }
   ],
   "execution_count": 5
  },
  {
   "metadata": {},
   "cell_type": "code",
   "outputs": [],
   "execution_count": null,
   "source": "",
   "id": "77738d3c3a791953"
  }
 ],
 "metadata": {
  "kernelspec": {
   "display_name": "Python 3",
   "language": "python",
   "name": "python3"
  },
  "language_info": {
   "codemirror_mode": {
    "name": "ipython",
    "version": 2
   },
   "file_extension": ".py",
   "mimetype": "text/x-python",
   "name": "python",
   "nbconvert_exporter": "python",
   "pygments_lexer": "ipython2",
   "version": "2.7.6"
  }
 },
 "nbformat": 4,
 "nbformat_minor": 5
}
