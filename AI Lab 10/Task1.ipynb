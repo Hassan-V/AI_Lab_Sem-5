{
 "cells": [
  {
   "cell_type": "code",
   "id": "initial_id",
   "metadata": {
    "collapsed": true,
    "ExecuteTime": {
     "end_time": "2025-01-07T19:46:35.175282Z",
     "start_time": "2025-01-07T19:46:35.165283Z"
    }
   },
   "source": [
    "class FriendList:\n",
    "\n",
    "    def __init__(self, friends):\n",
    "\n",
    "        self.friends = friends\n",
    "\n",
    "    def print_friends(self):\n",
    "\n",
    "        for friend in self.friends:\n",
    "            print(friend)"
   ],
   "outputs": [],
   "execution_count": 1
  },
  {
   "metadata": {
    "ExecuteTime": {
     "end_time": "2025-01-07T19:52:14.065048Z",
     "start_time": "2025-01-07T19:52:14.058353Z"
    }
   },
   "cell_type": "code",
   "source": [
    "# Example usage\n",
    "my_friends = FriendList([\"Mufti Muhammad Taqi Usmani\", \"Ibad Khan\", \"Arqum Chacha\", \"Qazi Sahab\", \"Mr. Pugrammer\"])\n",
    "my_friends.print_friends()"
   ],
   "id": "6143a0ba473d1372",
   "outputs": [
    {
     "name": "stdout",
     "output_type": "stream",
     "text": [
      "Mufti Muhammad Taqi Usmani\n",
      "Ibad Khan\n",
      "Arqum Chacha\n",
      "Qazi Sahab\n",
      "Mr. Pugrammer\n"
     ]
    }
   ],
   "execution_count": 2
  }
 ],
 "metadata": {
  "kernelspec": {
   "display_name": "Python 3",
   "language": "python",
   "name": "python3"
  },
  "language_info": {
   "codemirror_mode": {
    "name": "ipython",
    "version": 2
   },
   "file_extension": ".py",
   "mimetype": "text/x-python",
   "name": "python",
   "nbconvert_exporter": "python",
   "pygments_lexer": "ipython2",
   "version": "2.7.6"
  }
 },
 "nbformat": 4,
 "nbformat_minor": 5
}
