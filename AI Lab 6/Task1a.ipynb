{
 "cells": [
  {
   "cell_type": "code",
   "id": "initial_id",
   "metadata": {
    "collapsed": true,
    "ExecuteTime": {
     "end_time": "2024-11-26T19:55:04.082109Z",
     "start_time": "2024-11-26T19:55:04.071619Z"
    }
   },
   "source": [
    "import pandas as pd\n",
    "from sklearn.cluster import KMeans\n",
    "from sklearn.metrics import confusion_matrix, accuracy_score, adjusted_rand_score, silhouette_score\n",
    "import numpy as np\n",
    "from scipy.stats import mode\n",
    "\n",
    "data = {\n",
    "    'ID': [1, 2, 3, 4, 5, 6, 7, 8, 9, 10, \n",
    "           11, 12, 13, 14, 15, 16, 17, 18, 19, 20],\n",
    "    'Age': [25, 45, 29, 35, 40, 36, 50, 28, 30, 42, \n",
    "            23, 34, 48, 33, 26, 39, 53, 37, 32, 45],\n",
    "    'Income': [50000, 64000, 58000, 52000, 61000, \n",
    "               71000, 80000, 67000, 64000, 72000,\n",
    "               55000, 61000, 70000, 65000, 58000, \n",
    "               72000, 81000, 69000, 63000, 75000],\n",
    "    'True_Label': [0, 1, 0, 1, 1, 1, 0, 0, 0, 1, \n",
    "                   0, 1, 0, 1, 0, 1, 0, 1, 0, 1]\n",
    "}\n",
    "\n",
    "def map_clusters_to_labels(true_labels, clusters):\n",
    "    labels = np.zeros_like(clusters)\n",
    "    for i in range(2):\n",
    "        mask = (clusters == i)\n",
    "        labels[mask] = mode(true_labels[mask])[0]\n",
    "    return labels"
   ],
   "outputs": [],
   "execution_count": 16
  },
  {
   "metadata": {
    "ExecuteTime": {
     "end_time": "2024-11-26T19:55:04.559003Z",
     "start_time": "2024-11-26T19:55:04.467227Z"
    }
   },
   "cell_type": "code",
   "source": [
    "df = pd.DataFrame(data)\n",
    "X = df[['Age', 'Income']]\n",
    "kmeans = KMeans(n_clusters=2, random_state=42)\n",
    "kmeans.fit(X)\n",
    "\n",
    "df['Cluster'] = kmeans.predict(X)\n",
    "mapped_clusters = map_clusters_to_labels(df['True_Label'].values, df['Cluster'].values)\n",
    "\n",
    "conf_matrix = confusion_matrix(df['True_Label'], mapped_clusters)\n",
    "accuracy = accuracy_score(df['True_Label'], mapped_clusters)\n",
    "ari = adjusted_rand_score(df['True_Label'], df['Cluster'])\n",
    "silhouette = silhouette_score(X, df['Cluster'])"
   ],
   "id": "7c5a89983a5175c1",
   "outputs": [],
   "execution_count": 17
  },
  {
   "metadata": {
    "ExecuteTime": {
     "end_time": "2024-11-26T19:55:05.679538Z",
     "start_time": "2024-11-26T19:55:05.663945Z"
    }
   },
   "cell_type": "code",
   "source": [
    "print(\"Cluster assignments:\")\n",
    "print(df[['ID', 'Age', 'Income', 'True_Label', 'Cluster']])\n",
    "print(\"\\nConfusion Matrix:\")\n",
    "print(conf_matrix)\n",
    "print(f\"Accuracy: {accuracy * 100:.2f}%\")\n",
    "print(f\"Adjusted Rand Index (ARI): {ari:.2f}\")\n",
    "print(f\"Silhouette Score: {silhouette:.2f}\")"
   ],
   "id": "472315ba6248e1cf",
   "outputs": [
    {
     "name": "stdout",
     "output_type": "stream",
     "text": [
      "Cluster assignments:\n",
      "    ID  Age  Income  True_Label  Cluster\n",
      "0    1   25   50000           0        1\n",
      "1    2   45   64000           1        1\n",
      "2    3   29   58000           0        1\n",
      "3    4   35   52000           1        1\n",
      "4    5   40   61000           1        1\n",
      "5    6   36   71000           1        0\n",
      "6    7   50   80000           0        0\n",
      "7    8   28   67000           0        0\n",
      "8    9   30   64000           0        1\n",
      "9   10   42   72000           1        0\n",
      "10  11   23   55000           0        1\n",
      "11  12   34   61000           1        1\n",
      "12  13   48   70000           0        0\n",
      "13  14   33   65000           1        1\n",
      "14  15   26   58000           0        1\n",
      "15  16   39   72000           1        0\n",
      "16  17   53   81000           0        0\n",
      "17  18   37   69000           1        0\n",
      "18  19   32   63000           0        1\n",
      "19  20   45   75000           1        0\n",
      "\n",
      "Confusion Matrix:\n",
      "[[6 4]\n",
      " [5 5]]\n",
      "Accuracy: 55.00%\n",
      "Adjusted Rand Index (ARI): -0.04\n",
      "Silhouette Score: 0.55\n"
     ]
    }
   ],
   "execution_count": 18
  },
  {
   "metadata": {},
   "cell_type": "code",
   "outputs": [],
   "execution_count": null,
   "source": "",
   "id": "d0ea37d3051a94d8"
  }
 ],
 "metadata": {
  "kernelspec": {
   "display_name": "Python 3",
   "language": "python",
   "name": "python3"
  },
  "language_info": {
   "codemirror_mode": {
    "name": "ipython",
    "version": 2
   },
   "file_extension": ".py",
   "mimetype": "text/x-python",
   "name": "python",
   "nbconvert_exporter": "python",
   "pygments_lexer": "ipython2",
   "version": "2.7.6"
  }
 },
 "nbformat": 4,
 "nbformat_minor": 5
}
