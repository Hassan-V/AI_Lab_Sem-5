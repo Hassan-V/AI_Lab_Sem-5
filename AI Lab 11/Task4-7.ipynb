{
 "cells": [
  {
   "cell_type": "code",
   "id": "d63aa9af76bd4467",
   "metadata": {
    "ExecuteTime": {
     "end_time": "2025-01-07T20:33:12.264587Z",
     "start_time": "2025-01-07T20:33:12.252584Z"
    }
   },
   "source": [
    "from collections import deque\n",
    "\n",
    "class Graph:\n",
    "    def __init__(self):\n",
    "        self.adjacency_list = {}\n",
    "\n",
    "    def add_edge(self, from_vertex, to_vertex):\n",
    "        if from_vertex not in self.adjacency_list:\n",
    "            self.adjacency_list[from_vertex] = []\n",
    "        if to_vertex not in self.adjacency_list:\n",
    "            self.adjacency_list[to_vertex] = []\n",
    "        self.adjacency_list[from_vertex].append(to_vertex)\n",
    "        self.adjacency_list[to_vertex].append(from_vertex)  \n",
    "\n",
    "    def bfs(self, start, goal):\n",
    "        open_list = deque([start])\n",
    "        closed_list = []\n",
    "\n",
    "        while open_list:\n",
    "            current = open_list.popleft()\n",
    "            closed_list.append(current)\n",
    "\n",
    "            if current == goal:\n",
    "                return open_list, closed_list\n",
    "\n",
    "            for neighbor in self.adjacency_list[current]:\n",
    "                if neighbor not in open_list and neighbor not in closed_list:\n",
    "                    open_list.append(neighbor)\n",
    "\n",
    "        return open_list, closed_list\n",
    "\n",
    "    def dfs(self, start, goal):\n",
    "        open_list = [start]  \n",
    "        closed_list = []\n",
    "\n",
    "        while open_list:\n",
    "            current = open_list.pop()  \n",
    "            closed_list.append(current)\n",
    "\n",
    "            if current == goal:\n",
    "                return open_list, closed_list\n",
    "\n",
    "            for neighbor in reversed(self.adjacency_list[current]):\n",
    "                if neighbor not in open_list and neighbor not in closed_list:\n",
    "                    open_list.append(neighbor)\n",
    "\n",
    "        return open_list, closed_list  \n",
    "\n",
    "\n"
   ],
   "outputs": [],
   "execution_count": 11
  },
  {
   "metadata": {
    "ExecuteTime": {
     "end_time": "2025-01-07T20:33:14.191845Z",
     "start_time": "2025-01-07T20:33:14.186606Z"
    }
   },
   "cell_type": "code",
   "source": [
    "if __name__ == \"__main__\":\n",
    "    graph = Graph()\n",
    "    graph.add_edge('A', 'B')\n",
    "    graph.add_edge('A', 'E')\n",
    "    graph.add_edge('A', 'C')\n",
    "    graph.add_edge('B', 'D')\n",
    "    graph.add_edge('B', 'E')\n",
    "    graph.add_edge('C', 'F')\n",
    "    graph.add_edge('C', 'G')"
   ],
   "id": "8361723cc4a52882",
   "outputs": [],
   "execution_count": 12
  },
  {
   "metadata": {
    "collapsed": true,
    "ExecuteTime": {
     "end_time": "2025-01-07T20:33:20.477968Z",
     "start_time": "2025-01-07T20:33:15.756926Z"
    }
   },
   "cell_type": "code",
   "source": [
    "    start = input(\"Enter the initial state: \").strip().upper()\n",
    "    goal = input(\"Enter the goal state: \").strip().upper()\n",
    "\n",
    "    open_list, closed_list = graph.bfs(start, goal)\n",
    "\n",
    "    print(\"\\n--- BFS Results ---\")\n",
    "    print(\"Open List (Remaining):\", list(open_list))\n",
    "    print(\"Closed List (Visited Order):\", closed_list)\n",
    "\n",
    "    if closed_list and closed_list[-1] == goal:\n",
    "        print(f\"\\nGoal '{goal}' found!\")\n",
    "    else:\n",
    "        print(f\"\\nGoal '{goal}' not found in the graph.\")"
   ],
   "id": "initial_id",
   "outputs": [
    {
     "name": "stdout",
     "output_type": "stream",
     "text": [
      "\n",
      "--- BFS Results ---\n",
      "Open List (Remaining): []\n",
      "Closed List (Visited Order): ['A', 'B', 'E', 'C', 'D', 'F', 'G']\n",
      "\n",
      "Goal 'G' found!\n"
     ]
    }
   ],
   "execution_count": 13
  },
  {
   "metadata": {
    "ExecuteTime": {
     "end_time": "2025-01-07T20:34:01.415232Z",
     "start_time": "2025-01-07T20:33:59.011993Z"
    }
   },
   "cell_type": "code",
   "source": [
    "    start = input(\"Enter the initial state: \").strip().upper()\n",
    "    goal = input(\"Enter the goal state: \").strip().upper()\n",
    "    print(\"\\n--- DFS Results ---\")\n",
    "    open_list_dfs, closed_list_dfs = graph.dfs(start, goal)\n",
    "    print(\"Open List (Remaining):\", open_list_dfs)\n",
    "    print(\"Closed List (Visited Order):\", closed_list_dfs)\n",
    "    if closed_list_dfs and closed_list_dfs[-1] == goal:\n",
    "        print(f\"\\nGoal '{goal}' found using DFS!\")\n",
    "    else:\n",
    "        print(f\"\\nGoal '{goal}' not found using DFS.\")"
   ],
   "id": "14ab8560c6651b1e",
   "outputs": [
    {
     "name": "stdout",
     "output_type": "stream",
     "text": [
      "\n",
      "--- DFS Results ---\n",
      "Open List (Remaining): []\n",
      "Closed List (Visited Order): ['A', 'B', 'D', 'E', 'C']\n",
      "\n",
      "Goal 'C' found using DFS!\n"
     ]
    }
   ],
   "execution_count": 16
  }
 ],
 "metadata": {
  "kernelspec": {
   "display_name": "Python 3",
   "language": "python",
   "name": "python3"
  },
  "language_info": {
   "codemirror_mode": {
    "name": "ipython",
    "version": 2
   },
   "file_extension": ".py",
   "mimetype": "text/x-python",
   "name": "python",
   "nbconvert_exporter": "python",
   "pygments_lexer": "ipython2",
   "version": "2.7.6"
  }
 },
 "nbformat": 4,
 "nbformat_minor": 5
}
