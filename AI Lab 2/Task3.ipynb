{
 "cells": [
  {
   "cell_type": "code",
   "id": "initial_id",
   "metadata": {
    "collapsed": true,
    "ExecuteTime": {
     "end_time": "2024-10-28T18:20:48.478309Z",
     "start_time": "2024-10-28T18:20:03.127510Z"
    }
   },
   "source": [
    "import pandas as pd\n",
    "\n",
    "sales_data = pd.read_excel('spw.xlsx', usecols=[0, 1])"
   ],
   "outputs": [],
   "execution_count": 1
  },
  {
   "metadata": {
    "ExecuteTime": {
     "end_time": "2024-10-28T18:20:48.502327Z",
     "start_time": "2024-10-28T18:20:48.487285Z"
    }
   },
   "cell_type": "code",
   "source": "print(sales_data)",
   "id": "9639b74542d6d500",
   "outputs": [
    {
     "name": "stdout",
     "output_type": "stream",
     "text": [
      "        TOWN      TOWN_D\n",
      "0        271      MULTAN\n",
      "1        271      MULTAN\n",
      "2        271      MULTAN\n",
      "3        271      MULTAN\n",
      "4        271      MULTAN\n",
      "...      ...         ...\n",
      "332629   188  BAHAWALPUR\n",
      "332630   192    D-G-KHAN\n",
      "332631   192    D-G-KHAN\n",
      "332632   192    D-G-KHAN\n",
      "332633   192    D-G-KHAN\n",
      "\n",
      "[332634 rows x 2 columns]\n"
     ]
    }
   ],
   "execution_count": 2
  }
 ],
 "metadata": {
  "kernelspec": {
   "display_name": "Python 3",
   "language": "python",
   "name": "python3"
  },
  "language_info": {
   "codemirror_mode": {
    "name": "ipython",
    "version": 2
   },
   "file_extension": ".py",
   "mimetype": "text/x-python",
   "name": "python",
   "nbconvert_exporter": "python",
   "pygments_lexer": "ipython2",
   "version": "2.7.6"
  }
 },
 "nbformat": 4,
 "nbformat_minor": 5
}
