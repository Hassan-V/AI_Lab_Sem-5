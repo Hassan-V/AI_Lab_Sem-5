{
 "cells": [
  {
   "cell_type": "code",
   "id": "802076de17d093ed",
   "metadata": {},
   "source": [
    "from queue import PriorityQueue\n",
    "\n",
    "def insert_elements_in_priority_queue(arr):\n",
    "    \n",
    "    max_priority_queue = PriorityQueue()\n",
    "\n",
    "    for element in arr:\n",
    "        max_priority_queue.put(-element) \n",
    "\n",
    "    return max_priority_queue"
   ],
   "outputs": [],
   "execution_count": null
  },
  {
   "metadata": {
    "collapsed": true,
    "ExecuteTime": {
     "end_time": "2025-01-07T20:16:38.471496Z",
     "start_time": "2025-01-07T20:16:38.455493Z"
    }
   },
   "cell_type": "code",
   "outputs": [
    {
     "name": "stdout",
     "output_type": "stream",
     "text": [
      "8\n",
      "7\n",
      "4\n",
      "3\n",
      "1\n"
     ]
    }
   ],
   "execution_count": 1,
   "source": [
    "arr = [4, 8, 1, 7, 3]\n",
    "max_queue = insert_elements_in_priority_queue(arr)\n",
    "\n",
    "while not max_queue.empty():\n",
    "    print(-max_queue.get())"
   ],
   "id": "initial_id"
  }
 ],
 "metadata": {
  "kernelspec": {
   "display_name": "Python 3",
   "language": "python",
   "name": "python3"
  },
  "language_info": {
   "codemirror_mode": {
    "name": "ipython",
    "version": 2
   },
   "file_extension": ".py",
   "mimetype": "text/x-python",
   "name": "python",
   "nbconvert_exporter": "python",
   "pygments_lexer": "ipython2",
   "version": "2.7.6"
  }
 },
 "nbformat": 4,
 "nbformat_minor": 5
}
