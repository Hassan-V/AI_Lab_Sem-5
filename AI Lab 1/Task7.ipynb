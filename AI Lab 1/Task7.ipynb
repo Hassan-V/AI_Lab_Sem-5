{
 "cells": [
  {
   "cell_type": "code",
   "id": "initial_id",
   "metadata": {
    "collapsed": true,
    "ExecuteTime": {
     "end_time": "2024-10-22T12:12:31.888235Z",
     "start_time": "2024-10-22T12:12:31.876007Z"
    }
   },
   "source": [
    "from typing import Dict\n",
    "cities: Dict = {\n",
    "    \"Moscow\": \"Capital city, vibrant culture hub.\",\n",
    "    \"Saint Petersburg\": \"Cultural capital, famous for canals.\",\n",
    "    \"Novosibirsk\": \"Siberian city, large scientific center.\",\n",
    "    \"Yekaterinburg\": \"Historical city, Ural Mountains gateway.\",\n",
    "    \"Kazan\": \"Tatarstan capital, rich history blend.\",\n",
    "    \"Nizhny Novgorod\": \"Volga River city, historic architecture.\",\n",
    "    \"Samara\": \"Volga city, known for aviation.\",\n",
    "    \"Chelyabinsk\": \"Industrial city, near Ural Mountains.\",\n",
    "    \"Voronezh\": \"Southern city, key transportation hub.\",\n",
    "    \"Vladivostok\": \"Pacific port, gateway to Asia.\",\n",
    "    \"Rostov-on-Don\": \"Major city, Don River region.\",\n",
    "    \"Ufa\": \"Bashkortostan capital, cultural diversity center.\",\n",
    "    \"Astrakhan\": \"Volga delta city, rich fisheries.\",\n",
    "    \"Perm\": \"Ural city, historical industrial center.\",\n",
    "    \"Tula\": \"Famous for weapons, gingerbread production.\"\n",
    "}       "
   ],
   "outputs": [],
   "execution_count": 3
  },
  {
   "metadata": {
    "ExecuteTime": {
     "end_time": "2024-10-22T12:12:34.196171Z",
     "start_time": "2024-10-22T12:12:34.190333Z"
    }
   },
   "cell_type": "code",
   "source": [
    "def describe_city(user_city: str = \"Moscow\") -> None:\n",
    "    for city in cities:\n",
    "        if user_city.lower() == city.lower():\n",
    "            print(cities[city])\n",
    "            return\n",
    "    print(f\"Sorry, we dont know about {user_city}!\")"
   ],
   "id": "e7edd314a7028146",
   "outputs": [],
   "execution_count": 4
  },
  {
   "metadata": {
    "ExecuteTime": {
     "end_time": "2024-10-22T12:12:34.723016Z",
     "start_time": "2024-10-22T12:12:34.717966Z"
    }
   },
   "cell_type": "code",
   "source": [
    "def main()-> None:\n",
    "    city = input(\"Enter a city: \")\n",
    "    if city.strip():\n",
    "        describe_city(city)\n",
    "    else:\n",
    "        describe_city()"
   ],
   "id": "d66381835306a25",
   "outputs": [],
   "execution_count": 5
  },
  {
   "metadata": {
    "ExecuteTime": {
     "end_time": "2024-10-22T12:13:03.798289Z",
     "start_time": "2024-10-22T12:12:56.656324Z"
    }
   },
   "cell_type": "code",
   "source": [
    "if __name__ == \"__main__\":\n",
    "    main()"
   ],
   "id": "6df9e537c455895",
   "outputs": [
    {
     "name": "stdout",
     "output_type": "stream",
     "text": [
      "Cultural capital, famous for canals.\n"
     ]
    }
   ],
   "execution_count": 7
  },
  {
   "metadata": {},
   "cell_type": "code",
   "outputs": [],
   "execution_count": null,
   "source": "",
   "id": "1419f0ef2addf0ed"
  }
 ],
 "metadata": {
  "kernelspec": {
   "display_name": "Python 3",
   "language": "python",
   "name": "python3"
  },
  "language_info": {
   "codemirror_mode": {
    "name": "ipython",
    "version": 2
   },
   "file_extension": ".py",
   "mimetype": "text/x-python",
   "name": "python",
   "nbconvert_exporter": "python",
   "pygments_lexer": "ipython2",
   "version": "2.7.6"
  }
 },
 "nbformat": 4,
 "nbformat_minor": 5
}
