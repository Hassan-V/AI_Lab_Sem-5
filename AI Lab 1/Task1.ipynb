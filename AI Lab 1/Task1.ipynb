{
 "cells": [
  {
   "cell_type": "markdown",
   "id": "9936aeb96629e1fd",
   "metadata": {},
   "source": []
  },
  {
   "cell_type": "code",
   "execution_count": 10,
   "id": "38af73e6f6a0b2ae",
   "metadata": {
    "ExecuteTime": {
     "end_time": "2024-10-21T18:50:54.801981Z",
     "start_time": "2024-10-21T18:50:54.787092Z"
    }
   },
   "outputs": [],
   "source": [
    "def get_input(depth: int = 2) -> int:\n",
    "    int_input: str = input(\"Enter a Number: \")\n",
    "    \n",
    "    if int_input.isdigit():\n",
    "        return int(int_input)\n",
    "    elif depth == 0:\n",
    "        raise ValueError\n",
    "    else:\n",
    "        return get_input(depth = depth - 1)"
   ]
  },
  {
   "cell_type": "code",
   "execution_count": 11,
   "id": "b1c2faf9b5aa112f",
   "metadata": {
    "ExecuteTime": {
     "end_time": "2024-10-21T18:50:54.969946Z",
     "start_time": "2024-10-21T18:50:54.963450Z"
    }
   },
   "outputs": [],
   "source": [
    "def main() -> None:\n",
    "    try:\n",
    "        user_interger: int = get_input()\n",
    "        print(\"User Input: \",user_interger)\n",
    "        result: int = user_interger + 3\n",
    "        print(f\"{user_interger} + 3 :\",result)\n",
    "        result = result * 2\n",
    "        print(f\"{user_interger} * 2 :\",result)\n",
    "        result = result - 4\n",
    "        print(f\"{user_interger} - 4 :\",result)\n",
    "        result = result + 3\n",
    "        print(f\"{user_interger} + 3 :\",result)\n",
    "    except ValueError:\n",
    "        print(\"Invalid User Input\")"
   ]
  },
  {
   "cell_type": "code",
   "execution_count": 12,
   "id": "55ab157ad349dcd8",
   "metadata": {
    "ExecuteTime": {
     "end_time": "2024-10-21T18:50:59.616383Z",
     "start_time": "2024-10-21T18:50:55.173356Z"
    }
   },
   "outputs": [
    {
     "name": "stdout",
     "output_type": "stream",
     "text": [
      "User Input:  50\n",
      "50 + 3 : 53\n",
      "50 * 2 : 106\n",
      "50 - 4 : 102\n",
      "50 + 3 : 105\n"
     ]
    }
   ],
   "source": [
    "if __name__ == \"__main__\":\n",
    "    main()"
   ]
  }
 ],
 "metadata": {
  "kernelspec": {
   "display_name": "Python 3 (ipykernel)",
   "language": "python",
   "name": "python3"
  },
  "language_info": {
   "codemirror_mode": {
    "name": "ipython",
    "version": 3
   },
   "file_extension": ".py",
   "mimetype": "text/x-python",
   "name": "python",
   "nbconvert_exporter": "python",
   "pygments_lexer": "ipython3",
   "version": "3.11.9"
  }
 },
 "nbformat": 4,
 "nbformat_minor": 5
}
