{
 "cells": [
  {
   "cell_type": "code",
   "execution_count": 33,
   "id": "initial_id",
   "metadata": {
    "ExecuteTime": {
     "end_time": "2024-11-05T19:39:38.928694Z",
     "start_time": "2024-11-05T19:39:09.495472Z"
    },
    "collapsed": true,
    "jupyter": {
     "outputs_hidden": true
    }
   },
   "outputs": [],
   "source": [
    "from CustomKNN import *\n",
    "import pandas as pd\n",
    "from sklearn.model_selection import train_test_split\n",
    "\n",
    "file_path = 'spw.xlsx'\n",
    "df = pd.read_excel(file_path)"
   ]
  },
  {
   "cell_type": "code",
   "execution_count": 34,
   "id": "96ece207042ed303",
   "metadata": {
    "ExecuteTime": {
     "end_time": "2024-11-05T19:39:38.972856Z",
     "start_time": "2024-11-05T19:39:38.928694Z"
    }
   },
   "outputs": [],
   "source": [
    "df = df[['TOWN', 'DISTRIBUTOR', 'NAME']].head(2000)\n",
    "df['DISTRIBUTOR'] = df['DISTRIBUTOR'].astype(int)\n",
    "df['TOWN'] = df['TOWN'].astype(int)\n",
    "X = df[['DISTRIBUTOR',\"TOWN\"]]\n",
    "y = df['NAME']  \n",
    "\n",
    "X_train, X_test, y_train, y_test = train_test_split(X, y, test_size=0.3, random_state=42)\n",
    "\n",
    "X_train = X_train.reset_index(drop=True)\n",
    "y_train = y_train.reset_index(drop=True)\n",
    "X_test = X_test.reset_index(drop=True)\n",
    "y_test = y_test.reset_index(drop=True)\n",
    "\n",
    "knn = CustomKNN(dataset=X_train, target_attr=y_train, k=11)"
   ]
  },
  {
   "cell_type": "code",
   "execution_count": 35,
   "id": "189e229cae5b7e2c",
   "metadata": {
    "ExecuteTime": {
     "end_time": "2024-11-05T19:45:43.870531Z",
     "start_time": "2024-11-05T19:39:39.047553Z"
    }
   },
   "outputs": [
    {
     "name": "stdout",
     "output_type": "stream",
     "text": [
      "Predictions: ['Abdul Karim Confectionary' 'Sagar  K/S' 'Glaxy Store' 'M STORE'\n",
      " 'Glaxy Store' 'Glaxy Store' 'M STORE' 'family s/s' 'SALEEM' 'Glaxy Store'\n",
      " 'Chorahi Store' 'Glaxy Store' 'Glaxy Store' 'AHAMED K/S' 'Sagar  K/S'\n",
      " 'Sagar  K/S' 'Amjad ks' 'family s/s' 'Bhawani K/S' 'akhtair Qamberani'\n",
      " 'HUSSAINI' 'Zubaida Associates' 'Glaxy Store' 'Amjad ks' 'BIS STORE'\n",
      " 'SALEEM' 'Glaxy Store' 'Glaxy Store' 'SALEEM' 'family s/s' 'AHAMED K/S'\n",
      " 'HUSSAINI' 'HUSSAINI' 'Muzammil Store' 'Glaxy Store' 'Sagar  K/S'\n",
      " 'BAO S/S' 'Glaxy Store' 'Glaxy Store' 'Sagar  K/S' 'family s/s'\n",
      " 'JHOLAYLAL' 'Sagar  K/S' 'AHAMED K/S' 'Unique k/s' 'family s/s'\n",
      " 'AHAMED K/S' 'AHAMED K/S' 'NASRULLAH' 'HAQ BAHOO RAZAABAD' 'Rana K/s'\n",
      " 'ASLAM GEN. STORE.' 'SHAKER STORE' 'Sagar  K/S' 'HUSSAINI' 'AHAMED K/S'\n",
      " 'Glaxy Store' 'AHAMED K/S' 'Glaxy Store' 'ASLAM GEN. STORE.'\n",
      " 'MashAllah KS JB' 'HUSSAINI' 'Unique k/s' 'Glaxy Store' 'Shama K/s'\n",
      " 'Glaxy Store' 'Glaxy Store' 'Unique k/s' 'family s/s' 'Unique k/s'\n",
      " 'TARIQ K.S' 'Sagar  K/S' 'Unique k/s' 'Glaxy Store' 'SALEEM'\n",
      " 'ASLAM GEN. STORE.' 'Unique k/s' 'HUSSAINI' 'Sagar  K/S' 'TARIQ K.S'\n",
      " 'NASRULLAH' 'family s/s' 'SHAKER STORE' 'AHAMED K/S' 'HUSSAINI'\n",
      " 'MashAllah KS JB' 'AHAMED K/S' 'AHAMED K/S' 'ASLAM GEN. STORE.'\n",
      " 'Bhawani K/S' 'AHAMED K/S' 'family s/s' 'Sagar  K/S' 'ASLAM GEN. STORE.'\n",
      " 'Glaxy Store' 'CHAUHDARY BROTHERS' 'family s/s' 'Glaxy Store'\n",
      " 'SHAKER STORE' 'akhtair Qamberani' 'HUSSAINI' 'Glaxy Store' 'Sagar  K/S'\n",
      " 'Unique k/s' 'akhtair Qamberani' 'MUBARIK K/S' 'AHAMED K/S'\n",
      " 'akhtair Qamberani' 'AHAMED K/S' 'HUSSAINI' 'AHAMED K/S' 'TARIQ K.S'\n",
      " 'Glaxy Store' 'Joyland Cosmatic' 'AHAMED K/S' 'ASLAM GEN. STORE.'\n",
      " 'Aijaz Shaikh' 'Glaxy Store' 'Sagar  K/S' 'ILLAHI BUX K/S' 'Unique k/s'\n",
      " 'Glaxy Store' 'Glaxy Store' 'HUSSAINI' 'ASLAM GEN. STORE.' 'SHAKER STORE'\n",
      " 'family s/s' 'SALEEM' 'AMIR G/S' 'Sagar  K/S' 'Abdul Karim Confectionary'\n",
      " 'JHOLAYLAL' 'HUSSAINI' 'AHAMED K/S' 'family s/s' 'Glaxy Store'\n",
      " 'Glaxy Store' 'Aalam Khan K.S' 'AHAMED K/S' 'SHAHID K/S' 'Glaxy Store'\n",
      " 'Sagar  K/S' 'AHAMED K/S' 'M STORE' 'Unique k/s' 'M STORE' 'AHAMED K/S'\n",
      " 'AYAN STORE 2' 'Sagar  K/S' 'family s/s' 'AHAMED K/S' 'Glaxy Store'\n",
      " 'AHAMED K/S' 'Glaxy Store' 'Sagar  K/S' 'MashAllah KS JB' 'AHAMED K/S'\n",
      " 'SHAFEEQ K/S' 'AHAMED K/S' 'CHAUHDARY BROTHERS' 'HUSSAINI'\n",
      " 'MashAllah KS JB' 'ASLAM GEN. STORE.' 'Glaxy Store' 'Glaxy Store'\n",
      " 'MashAllah KS JB' 'family s/s' 'Glaxy Store' 'Sagar  K/S' 'AHAMED K/S'\n",
      " 'Glaxy Store' 'HUSSAINI' 'Aalam Khan K.S' 'BIS STORE' 'Sagar  K/S'\n",
      " 'Glaxy Store' 'HUSSAINI' 'Glaxy Store' 'HUSSAINI' 'Zubaida Associates'\n",
      " 'Glaxy Store' 'Joyland Cosmatic' 'TARIQ K.S' 'Glaxy Store' 'family s/s'\n",
      " 'HUSSAINI' 'BIS STORE' 'MashAllah KS JB' 'Glaxy Store' 'AMIR G/S'\n",
      " 'HUSSAINI' 'ASLAM GEN. STORE.' 'SHAKER STORE' 'ASLAM GEN. STORE.'\n",
      " 'family s/s' 'family s/s' 'Glaxy Store' 'family s/s' 'AHAMED K/S'\n",
      " 'ILLAHI BUX K/S' 'BIS STORE' 'AHAMED K/S' 'family s/s' 'family s/s'\n",
      " 'Sagar  K/S' 'akhtair Qamberani' 'ILLAHI BUX K/S' 'Glaxy Store'\n",
      " 'Glaxy Store' 'SALEEM' 'AHAMED K/S' 'MashAllah KS JB'\n",
      " 'Muhammad Azeem Kiryana' 'SALEEM' 'AHAMED K/S' 'CHAUHDARY BROTHERS'\n",
      " 'Glaxy Store' 'Sagar  K/S' 'akhtair Qamberani' 'Glaxy Store' 'AHAMED K/S'\n",
      " 'SALEEM' 'AHAMED K/S' 'RAJA PANSAR STORE' 'AHAMED K/S' 'Glaxy Store'\n",
      " 'Sagar  K/S' 'SALEEM' 'Amjad ks' 'ASLAM GEN. STORE.' 'SHAHEEN K.S'\n",
      " 'ASLAM GEN. STORE.' 'Green Valley k/s' 'MUBARIK K/S' 'HUSSAINI'\n",
      " 'akhtair Qamberani' 'Glaxy Store' 'AHAMED K/S' 'Glaxy Store' 'AHAMED K/S'\n",
      " 'HUSSAINI' 'Unique k/s' 'HUSSAINI' 'M STORE' 'Unique k/s' 'family s/s'\n",
      " 'Chorahi Store' 'MS Mart' 'family s/s' 'Glaxy Store' 'Glaxy Store'\n",
      " 'Sagar  K/S' 'Glaxy Store' 'AHAMED K/S' 'SHAKER STORE' 'Glaxy Store'\n",
      " 'HUSSAINI' 'AHAMED K/S' 'Aijaz Shaikh' 'Glaxy Store' 'family s/s'\n",
      " 'akhtair Qamberani' 'family s/s' 'TARIQ K.S' 'Glaxy Store' 'AL AWAAN K/S'\n",
      " 'Sagar  K/S' 'family s/s' 'family s/s' 'Glaxy Store' 'Glaxy Store'\n",
      " 'Shama K/s' 'HUSSAINI' 'SHAKER STORE' 'Shama K/s' 'Shama K/s'\n",
      " 'AHAMED K/S' 'Sagar  K/S' 'SHAKER STORE' 'ASLAM GEN. STORE.'\n",
      " 'Glaxy Store' 'Zubaida Associates' 'M STORE' 'SHAKER STORE' 'Glaxy Store'\n",
      " 'SALEEM' 'ASLAM GEN. STORE.' 'Muzammil Store' 'family s/s' 'family s/s'\n",
      " 'Talib Tea Store' 'TARIQ K.S' 'Unique k/s' 'Zawar K/S' 'M STORE'\n",
      " 'CHAUHDARY BROTHERS' 'family s/s' 'Joyland Cosmatic'\n",
      " 'Abdul Karim Confectionary' 'Sagar  K/S' 'AHAMED K/S' 'family s/s'\n",
      " 'SOFI K/S' 'AHAMED K/S' 'HUSSAINI' 'Zawar K/S' 'Glaxy Store'\n",
      " 'Glaxy Store' 'AHAMED K/S' 'family s/s' 'AMIR G/S' 'Bhawani K/S'\n",
      " 'Glaxy Store' 'Glaxy Store' 'IKRAM 2 G/S' 'Muzammil Store' 'MUBARIK K/S'\n",
      " 'Unique k/s' 'AHAMED K/S' 'IKRAM 2 G/S' 'family s/s' 'Anayat K/s'\n",
      " 'family s/s' 'Sagar  K/S' 'Glaxy Store' 'AHAMED K/S' 'JHOLAYLAL'\n",
      " 'family s/s' 'TARIQ K.S' 'AHAMED K/S' 'ASLAM GEN. STORE.' 'AHAMED K/S'\n",
      " 'SHAKER STORE' 'AHAMED K/S' 'akhtair Qamberani' 'AHAMED K/S' 'Sagar  K/S'\n",
      " 'MashAllah KS JB' 'AMIR G/S' 'family s/s' 'Unique k/s'\n",
      " 'ASLAM GEN. STORE.' 'Amjad ks' 'MashAllah KS JB' 'HUSSAINI' 'Bhawani K/S'\n",
      " 'Green Valley k/s' 'Joyland Cosmatic' 'Unique k/s' 'Glaxy Store'\n",
      " 'family s/s' 'AHAMED K/S' 'MashAllah KS JB' 'Sheikh store' 'family s/s'\n",
      " 'HUSSAINI' 'MashAllah KS JB' 'M STORE' 'ILLAHI BUX K/S' 'Talib Tea Store'\n",
      " 'M STORE' 'ASLAM GEN. STORE.' 'SALEEM' 'SALEEM' 'Qasim Cosmetics'\n",
      " 'AHAMED K/S' 'HUSSAINI' 'AYAN STORE 2' 'Glaxy Store' 'akhtair Qamberani'\n",
      " 'family s/s' 'AHAMED K/S' 'NASRULLAH' 'AHAMED K/S' 'TARIQ K.S'\n",
      " 'Al Makka S/S' 'AHAMED K/S' 'family s/s' 'Glaxy Store' 'AHAMED K/S'\n",
      " 'Unique k/s' 'AHAMED K/S' 'ASLAM GEN. STORE.' 'PAKISTAN K/S'\n",
      " 'SHAKER STORE' 'AHAMED K/S' 'SOFI K/S' 'Unique k/s' 'AHAMED K/S'\n",
      " 'AHAMED K/S' 'HUSSAINI' 'SHAKER STORE' 'Joyland Cosmatic' 'AHAMED K/S'\n",
      " 'HUSSAINI' 'Glaxy Store' 'Glaxy Store' 'AHAMED K/S' 'ASLAM GEN. STORE.'\n",
      " 'HUSSAINI' 'Glaxy Store' 'akhtair Qamberani' 'family s/s' 'family s/s'\n",
      " 'ASLAM GEN. STORE.' 'Glaxy Store' 'Glaxy Store' 'Sagar  K/S'\n",
      " 'Glaxy Store' 'Glaxy Store' 'AHAMED K/S' 'M STORE' 'AHAMED K/S'\n",
      " 'Muzammil Store' 'ASLAM GEN. STORE.' 'MUBARIK K/S' 'ASLAM GEN. STORE.'\n",
      " 'MashAllah KS JB' 'ASLAM GEN. STORE.' 'Joyland Cosmatic' 'family s/s'\n",
      " 'ASLAM GEN. STORE.' 'Glaxy Store' 'Muzammil Store' 'TARIQ K.S'\n",
      " 'AHAMED K/S' 'Glaxy Store' 'Glaxy Store' 'Glaxy Store' 'Glaxy Store'\n",
      " 'ASLAM GEN. STORE.' 'Anayat K/s' 'Glaxy Store' 'M STORE' 'Glaxy Store'\n",
      " 'Glaxy Store' 'Aijaz Shaikh' 'Glaxy Store' 'Sagar  K/S' 'Unique k/s'\n",
      " 'Sagar  K/S' 'SALEEM' 'SHAKER STORE' 'AHAMED K/S' 'SHAFEEQ K/S'\n",
      " 'SOFI K/S' 'Glaxy Store' 'Unique k/s' 'Muzammil Store' 'Glaxy Store'\n",
      " 'MashAllah KS JB' 'Glaxy Store' 'family s/s' 'Glaxy Store' 'BIS STORE'\n",
      " 'Unique k/s' 'Sagar  K/S' 'AHAMED K/S' 'ILLAHI BUX K/S' 'AHAMED K/S'\n",
      " 'Sagar  K/S' 'akhtair Qamberani' 'Joyland Cosmatic' 'Glaxy Store'\n",
      " 'ASLAM GEN. STORE.' 'ASLAM GEN. STORE.' 'MashAllah KS JB' 'M STORE'\n",
      " 'ASLAM GEN. STORE.' 'AHAMED K/S' 'ASLAM GEN. STORE.' 'HUSSAINI'\n",
      " 'family s/s' 'Glaxy Store' 'Unique k/s' 'M STORE' 'HUSSAINI'\n",
      " 'akhtair Qamberani' 'ASLAM GEN. STORE.' 'ILLAHI BUX K/S'\n",
      " 'Abdul Karim Confectionary' 'SHAKER STORE' 'Sagar  K/S' 'Sagar  K/S'\n",
      " 'SHAKER STORE' 'Glaxy Store' 'Al Makka S/S' 'akhtair Qamberani'\n",
      " 'AHAMED K/S' 'ASLAM GEN. STORE.' 'TARIQ K.S' 'ASLAM GEN. STORE.'\n",
      " 'JHOLAYLAL' 'HUSSAINI' 'family s/s' 'AHAMED K/S' 'Glaxy Store'\n",
      " 'Sagar  K/S' 'Bhawani K/S' 'AHAMED K/S' 'AHAMED K/S' 'HUSSAINI'\n",
      " 'AHAMED K/S' 'TARIQ K.S' 'ILLAHI BUX K/S' 'SHAHEEN K.S' 'SHAKER STORE'\n",
      " 'SALEEM' 'Shama K/s' 'Glaxy Store' 'family s/s' 'akhtair Qamberani'\n",
      " 'AHAMED K/S' 'SHAKER STORE' 'Glaxy Store' 'TARIQ K.S' 'family s/s'\n",
      " 'ASLAM GEN. STORE.' 'MUBARIK K/S' 'Glaxy Store' 'M STORE' 'Sagar  K/S'\n",
      " 'CHAUHDARY BROTHERS' 'family s/s' 'AHAMED K/S' 'HUSSAINI' 'SOFI K/S'\n",
      " 'Anayat K/s' 'MashAllah KS JB' 'Glaxy Store' 'Glaxy Store' 'BIS STORE'\n",
      " 'SALEEM' 'Muzammil Store' 'AHAMED K/S' 'Glaxy Store' 'IKRAM 2 G/S'\n",
      " 'AHAMED K/S' 'family s/s' 'Glaxy Store' 'NASRULLAH' 'Glaxy Store'\n",
      " 'Glaxy Store' 'AYAN STORE 2' 'ILLAHI BUX K/S' 'Glaxy Store' 'AHAMED K/S'\n",
      " 'AHAMED K/S' 'Glaxy Store' 'SHAKER STORE' 'HUSSAINI' 'family s/s'\n",
      " 'Sagar  K/S' 'Glaxy Store' 'MashAllah KS JB' 'Glaxy Store' 'HUSSAINI'\n",
      " 'CHAUHDARY BROTHERS' 'ASLAM GEN. STORE.' 'TARIQ K.S' 'HUSSAINI'\n",
      " 'Glaxy Store' 'family s/s' 'AHAMED K/S' 'AHAMED K/S' 'Glaxy Store'\n",
      " 'Glaxy Store' 'family s/s' 'Glaxy Store' 'ASLAM GEN. STORE.'\n",
      " 'Glaxy Store' 'Glaxy Store' 'Glaxy Store' 'Unique k/s' 'AHAMED K/S'\n",
      " 'Glaxy Store' 'AHAMED K/S' 'Glaxy Store' 'Abdul Karim Confectionary'\n",
      " 'Shama K/s' 'Sheikh store' 'New Farhan K.S' 'SHAKER STORE' 'AYAN STORE 2'\n",
      " 'Glaxy Store' 'ASLAM GEN. STORE.' 'Glaxy Store' 'Bhawani K/S'\n",
      " 'akhtair Qamberani' 'Sagar  K/S' 'Qasim Cosmetics' 'HUSSAINI' 'BIS STORE'\n",
      " 'SHAKER STORE' 'HUSSAINI' 'SALEEM' 'AHAMED K/S' 'Glaxy Store'\n",
      " 'AHAMED K/S' 'HUSSAINI']\n",
      "Accuracy: 0.0016666666666666668\n"
     ]
    }
   ],
   "source": [
    "predictions = knn.predict(X_test)\n",
    "accuracy = knn.score(X_test, y_test)\n",
    "\n",
    "print(\"Predictions:\", predictions.values)\n",
    "print(\"Accuracy:\", accuracy)"
   ]
  },
  {
   "cell_type": "code",
   "execution_count": null,
   "id": "11ed116251e4f12c",
   "metadata": {},
   "outputs": [],
   "source": []
  }
 ],
 "metadata": {
  "kernelspec": {
   "display_name": "Python 3 (ipykernel)",
   "language": "python",
   "name": "python3"
  },
  "language_info": {
   "codemirror_mode": {
    "name": "ipython",
    "version": 3
   },
   "file_extension": ".py",
   "mimetype": "text/x-python",
   "name": "python",
   "nbconvert_exporter": "python",
   "pygments_lexer": "ipython3",
   "version": "3.12.3"
  }
 },
 "nbformat": 4,
 "nbformat_minor": 5
}
