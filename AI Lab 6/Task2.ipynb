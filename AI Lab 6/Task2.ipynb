{
 "cells": [
  {
   "cell_type": "code",
   "id": "initial_id",
   "metadata": {
    "collapsed": true,
    "ExecuteTime": {
     "end_time": "2024-11-26T20:00:15.306916Z",
     "start_time": "2024-11-26T20:00:15.287618Z"
    }
   },
   "source": [
    "import pandas as pd\n",
    "from CustomKMC import *\n",
    "data = {\n",
    "    'ID': [1, 2, 3, 4, 5, 6, 7, 8, 9, 10, \n",
    "           11, 12, 13, 14, 15, 16, 17, 18, 19, 20],\n",
    "    'Age': [25, 45, 29, 35, 40, 36, 50, 28, 30, 42, \n",
    "            23, 34, 48, 33, 26, 39, 53, 37, 32, 45],\n",
    "    'Income': [50000, 64000, 58000, 52000, 61000, \n",
    "               71000, 80000, 67000, 64000, 72000,\n",
    "               55000, 61000, 70000, 65000, 58000, \n",
    "               72000, 81000, 69000, 63000, 75000]\n",
    "}\n",
    "\n",
    "df = pd.DataFrame(data)\n",
    "\n",
    "X = df[['Age', 'Income']].values\n",
    "kmeans = CustomKMC(K=3)\n",
    "kmeans.fit(X)\n",
    "\n",
    "centroids = kmeans.get_centroids()\n",
    "labels = kmeans.get_labels()\n",
    "df['Cluster'] = labels"
   ],
   "outputs": [
    {
     "name": "stdout",
     "output_type": "stream",
     "text": [
      "Convergence reached after 2 iterations.\n"
     ]
    }
   ],
   "execution_count": 4
  },
  {
   "metadata": {
    "ExecuteTime": {
     "end_time": "2024-11-26T20:00:17.551634Z",
     "start_time": "2024-11-26T20:00:17.541666Z"
    }
   },
   "cell_type": "code",
   "source": [
    "print(\"Final Centroids:\")\n",
    "print(centroids)\n",
    "print(\"\\nCluster Assignments:\")\n",
    "print(df[['ID', 'Age', 'Income', 'Cluster']])"
   ],
   "id": "299dfc57de5c793d",
   "outputs": [
    {
     "name": "stdout",
     "output_type": "stream",
     "text": [
      "Final Centroids:\n",
      "[[2.76000000e+01 5.46000000e+04]\n",
      " [3.63333333e+01 6.48888889e+04]\n",
      " [4.41666667e+01 7.51666667e+04]]\n",
      "\n",
      "Cluster Assignments:\n",
      "    ID  Age  Income  Cluster\n",
      "0    1   25   50000        0\n",
      "1    2   45   64000        1\n",
      "2    3   29   58000        0\n",
      "3    4   35   52000        0\n",
      "4    5   40   61000        1\n",
      "5    6   36   71000        2\n",
      "6    7   50   80000        2\n",
      "7    8   28   67000        1\n",
      "8    9   30   64000        1\n",
      "9   10   42   72000        2\n",
      "10  11   23   55000        0\n",
      "11  12   34   61000        1\n",
      "12  13   48   70000        1\n",
      "13  14   33   65000        1\n",
      "14  15   26   58000        0\n",
      "15  16   39   72000        2\n",
      "16  17   53   81000        2\n",
      "17  18   37   69000        1\n",
      "18  19   32   63000        1\n",
      "19  20   45   75000        2\n"
     ]
    }
   ],
   "execution_count": 5
  }
 ],
 "metadata": {
  "kernelspec": {
   "display_name": "Python 3",
   "language": "python",
   "name": "python3"
  },
  "language_info": {
   "codemirror_mode": {
    "name": "ipython",
    "version": 2
   },
   "file_extension": ".py",
   "mimetype": "text/x-python",
   "name": "python",
   "nbconvert_exporter": "python",
   "pygments_lexer": "ipython2",
   "version": "2.7.6"
  }
 },
 "nbformat": 4,
 "nbformat_minor": 5
}
