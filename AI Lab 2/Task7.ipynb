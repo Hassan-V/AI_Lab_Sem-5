{
 "cells": [
  {
   "cell_type": "code",
   "id": "initial_id",
   "metadata": {
    "collapsed": true,
    "ExecuteTime": {
     "end_time": "2024-10-29T14:26:17.309485Z",
     "start_time": "2024-10-29T14:26:16.613367Z"
    }
   },
   "source": "import pandas as pd",
   "outputs": [],
   "execution_count": 1
  },
  {
   "metadata": {
    "ExecuteTime": {
     "end_time": "2024-10-29T17:19:28.562403Z",
     "start_time": "2024-10-29T17:19:28.555574Z"
    }
   },
   "cell_type": "code",
   "source": [
    "def standardization(df, feature):\n",
    "    mean = df[feature].mean()\n",
    "    std_dev = df[feature].std()\n",
    "    return (df[feature] - mean) / std_dev"
   ],
   "id": "433800db085f063a",
   "outputs": [],
   "execution_count": 5
  },
  {
   "metadata": {
    "ExecuteTime": {
     "end_time": "2024-10-29T17:19:28.990690Z",
     "start_time": "2024-10-29T17:19:28.984707Z"
    }
   },
   "cell_type": "code",
   "source": [
    "data = {\n",
    "    'Age': [25, 30, 35, 40, 45],\n",
    "    'Salary': [30000, 40000, 50000, 60000, 70000]\n",
    "}\n",
    "df = pd.DataFrame(data)"
   ],
   "id": "5927fda4d3d827d6",
   "outputs": [],
   "execution_count": 6
  },
  {
   "metadata": {
    "ExecuteTime": {
     "end_time": "2024-10-29T18:06:35.995409Z",
     "start_time": "2024-10-29T18:06:35.984024Z"
    }
   },
   "cell_type": "code",
   "source": [
    "df[\"Age_Normal\"] = standardization(df, \"Age\")\n",
    "df[\"Salary_Normal\"] = standardization(df, \"Salary\")"
   ],
   "id": "a89fb2282b91b35",
   "outputs": [],
   "execution_count": 8
  },
  {
   "metadata": {
    "ExecuteTime": {
     "end_time": "2024-10-29T18:07:16.846885Z",
     "start_time": "2024-10-29T18:07:16.840901Z"
    }
   },
   "cell_type": "code",
   "source": [
    "print(\"\\nStandardization\\n\")\n",
    "print(df)"
   ],
   "id": "c199882279a31ff7",
   "outputs": [
    {
     "name": "stdout",
     "output_type": "stream",
     "text": [
      "\n",
      "Standardization\n",
      "\n",
      "   Age  Salary  Age_Normal  Salary_Normal\n",
      "0   25   30000   -1.264911      -1.264911\n",
      "1   30   40000   -0.632456      -0.632456\n",
      "2   35   50000    0.000000       0.000000\n",
      "3   40   60000    0.632456       0.632456\n",
      "4   45   70000    1.264911       1.264911\n"
     ]
    }
   ],
   "execution_count": 9
  },
  {
   "metadata": {},
   "cell_type": "code",
   "outputs": [],
   "execution_count": null,
   "source": "",
   "id": "6fe9c3cfac9f6648"
  }
 ],
 "metadata": {
  "kernelspec": {
   "display_name": "Python 3",
   "language": "python",
   "name": "python3"
  },
  "language_info": {
   "codemirror_mode": {
    "name": "ipython",
    "version": 2
   },
   "file_extension": ".py",
   "mimetype": "text/x-python",
   "name": "python",
   "nbconvert_exporter": "python",
   "pygments_lexer": "ipython2",
   "version": "2.7.6"
  }
 },
 "nbformat": 4,
 "nbformat_minor": 5
}
