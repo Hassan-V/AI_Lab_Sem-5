{
 "cells": [
  {
   "metadata": {},
   "cell_type": "markdown",
   "source": "",
   "id": "1679b5d6d7a66e78"
  },
  {
   "cell_type": "code",
   "id": "initial_id",
   "metadata": {
    "collapsed": true,
    "ExecuteTime": {
     "end_time": "2024-10-22T11:05:45.305865Z",
     "start_time": "2024-10-22T11:05:45.296374Z"
    }
   },
   "source": [
    "def add_spaces(name: str)-> str:\n",
    "    name = str(name)\n",
    "    name = f\"\\t   {name} \\t  \\n\"\n",
    "    return name"
   ],
   "outputs": [],
   "execution_count": 1
  },
  {
   "metadata": {
    "ExecuteTime": {
     "end_time": "2024-10-22T11:10:32.798343Z",
     "start_time": "2024-10-22T11:10:32.792359Z"
    }
   },
   "cell_type": "code",
   "source": [
    "def main() -> None:\n",
    "    name: str = input(\"Enter your name:\")\n",
    "    name = add_spaces(name)\n",
    "    \n",
    "    print(\"name with spaces:\", name)\n",
    "    \n",
    "    print(\"name with only right spaces:\", name.lstrip())\n",
    "    print(\"name with only left spaces:\", name.rstrip())\n",
    "    print(\"name without spaces:\", name.strip())\n",
    "    "
   ],
   "id": "9e358732a879ae5",
   "outputs": [],
   "execution_count": 6
  },
  {
   "metadata": {
    "ExecuteTime": {
     "end_time": "2024-10-22T11:10:36.985024Z",
     "start_time": "2024-10-22T11:10:33.172490Z"
    }
   },
   "cell_type": "code",
   "source": [
    "if __name__ == \"__main__\":\n",
    "    main()"
   ],
   "id": "467eb0aeb407b939",
   "outputs": [
    {
     "name": "stdout",
     "output_type": "stream",
     "text": [
      "name with spaces: \t   Rashid Ali \t  \n",
      "\n",
      "name with only right spaces: Rashid Ali \t  \n",
      "\n",
      "name with only left spaces: \t   Rashid Ali\n",
      "name without spaces: Rashid Ali\n"
     ]
    }
   ],
   "execution_count": 7
  }
 ],
 "metadata": {
  "kernelspec": {
   "display_name": "Python 3",
   "language": "python",
   "name": "python3"
  },
  "language_info": {
   "codemirror_mode": {
    "name": "ipython",
    "version": 2
   },
   "file_extension": ".py",
   "mimetype": "text/x-python",
   "name": "python",
   "nbconvert_exporter": "python",
   "pygments_lexer": "ipython2",
   "version": "2.7.6"
  }
 },
 "nbformat": 4,
 "nbformat_minor": 5
}
