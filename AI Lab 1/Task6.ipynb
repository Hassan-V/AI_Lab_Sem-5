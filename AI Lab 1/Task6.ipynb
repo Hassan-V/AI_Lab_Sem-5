{
 "cells": [
  {
   "cell_type": "code",
   "id": "initial_id",
   "metadata": {
    "collapsed": true,
    "ExecuteTime": {
     "end_time": "2024-10-22T11:24:09.482869Z",
     "start_time": "2024-10-22T11:24:09.477305Z"
    }
   },
   "source": [
    "def print_table(num: int, size: int = 10) -> None:\n",
    "    for i in range(1, size+1):\n",
    "        result = f\"{num}  x  {i} =  {num*i}\"\n",
    "        if i < 10:\n",
    "            result = f\"{num}  x  {i}  =  {num*i}\"\n",
    "        print(result)"
   ],
   "outputs": [],
   "execution_count": 22
  },
  {
   "metadata": {
    "ExecuteTime": {
     "end_time": "2024-10-22T11:24:09.682770Z",
     "start_time": "2024-10-22T11:24:09.678101Z"
    }
   },
   "cell_type": "code",
   "source": [
    "def main(depth: int = 2)-> None:\n",
    "    number = input(\"Enter a number: \")\n",
    "    if number.isdigit():\n",
    "        print_table(int(number))\n",
    "        return\n",
    "    elif depth == 0:\n",
    "        print(\"Invalid input\")\n",
    "        return\n",
    "    else:\n",
    "        main(depth - 1)"
   ],
   "id": "d3f9ca027bd0e13c",
   "outputs": [],
   "execution_count": 23
  },
  {
   "metadata": {
    "ExecuteTime": {
     "end_time": "2024-10-22T11:24:12.395414Z",
     "start_time": "2024-10-22T11:24:10.040457Z"
    }
   },
   "cell_type": "code",
   "source": [
    "if __name__ == \"__main__\":\n",
    "    main()"
   ],
   "id": "eea6e8db89f576b6",
   "outputs": [
    {
     "name": "stdout",
     "output_type": "stream",
     "text": [
      "50  x  1  =  50\n",
      "50  x  2  =  100\n",
      "50  x  3  =  150\n",
      "50  x  4  =  200\n",
      "50  x  5  =  250\n",
      "50  x  6  =  300\n",
      "50  x  7  =  350\n",
      "50  x  8  =  400\n",
      "50  x  9  =  450\n",
      "50  x  10 =  500\n"
     ]
    }
   ],
   "execution_count": 24
  }
 ],
 "metadata": {
  "kernelspec": {
   "display_name": "Python 3",
   "language": "python",
   "name": "python3"
  },
  "language_info": {
   "codemirror_mode": {
    "name": "ipython",
    "version": 2
   },
   "file_extension": ".py",
   "mimetype": "text/x-python",
   "name": "python",
   "nbconvert_exporter": "python",
   "pygments_lexer": "ipython2",
   "version": "2.7.6"
  }
 },
 "nbformat": 4,
 "nbformat_minor": 5
}
