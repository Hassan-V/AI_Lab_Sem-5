{
 "cells": [
  {
   "cell_type": "code",
   "id": "initial_id",
   "metadata": {
    "collapsed": true,
    "ExecuteTime": {
     "end_time": "2024-11-05T19:56:22.452118Z",
     "start_time": "2024-11-05T19:56:22.445792Z"
    }
   },
   "source": [
    "from CustomKNN import *\n",
    "import pandas as pd\n",
    "\n",
    "data = pd.DataFrame({\n",
    "    'Acid_durability': [7, 7, 3, 1],\n",
    "    'Strength': [7, 4, 4, 4]\n",
    "})\n",
    "labels = pd.Series(['Bad', 'Bad', 'Good', 'Good'])"
   ],
   "outputs": [],
   "execution_count": 37
  },
  {
   "metadata": {
    "ExecuteTime": {
     "end_time": "2024-11-05T19:56:22.706817Z",
     "start_time": "2024-11-05T19:56:22.700559Z"
    }
   },
   "cell_type": "code",
   "source": [
    "knn = CustomKNN(dataset=data, target_attr=labels, k=3)\n",
    "\n",
    "test_data = pd.DataFrame({\n",
    "    'Acid_durability': [7, 3],\n",
    "    'Strength': [4, 4]\n",
    "})\n",
    "test_labels = pd.Series([\"Bad\", \"Good\"])"
   ],
   "id": "59024c5bbe3b460e",
   "outputs": [],
   "execution_count": 38
  },
  {
   "metadata": {
    "ExecuteTime": {
     "end_time": "2024-11-05T19:56:22.985293Z",
     "start_time": "2024-11-05T19:56:22.970524Z"
    }
   },
   "cell_type": "code",
   "source": [
    "predictions = knn.predict(test_data)\n",
    "accuracy = knn.score(test_data, test_labels)"
   ],
   "id": "1caca8e584e259ba",
   "outputs": [],
   "execution_count": 39
  },
  {
   "metadata": {
    "ExecuteTime": {
     "end_time": "2024-11-05T19:56:23.362789Z",
     "start_time": "2024-11-05T19:56:23.350259Z"
    }
   },
   "cell_type": "code",
   "source": [
    "# Output results\n",
    "print(\"Predictions:\", predictions.values)\n",
    "print(\"Accuracy:\", accuracy)"
   ],
   "id": "84f533c95c152b5a",
   "outputs": [
    {
     "name": "stdout",
     "output_type": "stream",
     "text": [
      "Predictions: ['Bad' 'Good']\n",
      "Accuracy: 1.0\n"
     ]
    }
   ],
   "execution_count": 40
  },
  {
   "metadata": {},
   "cell_type": "code",
   "outputs": [],
   "execution_count": null,
   "source": "",
   "id": "478376f494698b69"
  }
 ],
 "metadata": {
  "kernelspec": {
   "display_name": "Python 3",
   "language": "python",
   "name": "python3"
  },
  "language_info": {
   "codemirror_mode": {
    "name": "ipython",
    "version": 2
   },
   "file_extension": ".py",
   "mimetype": "text/x-python",
   "name": "python",
   "nbconvert_exporter": "python",
   "pygments_lexer": "ipython2",
   "version": "2.7.6"
  }
 },
 "nbformat": 4,
 "nbformat_minor": 5
}
