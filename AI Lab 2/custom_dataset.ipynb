{
 "cells": [
  {
   "cell_type": "code",
   "execution_count": 1,
   "id": "initial_id",
   "metadata": {
    "ExecuteTime": {
     "end_time": "2024-10-29T19:16:28.010949Z",
     "start_time": "2024-10-29T19:15:38.625956Z"
    }
   },
   "outputs": [],
   "source": [
    "import pandas as pd\n",
    "import numpy as np\n",
    "\n",
    "dataset = pd.read_excel('spw.xlsx')"
   ]
  },
  {
   "cell_type": "code",
   "execution_count": 3,
   "id": "fd0d464e106cb89a",
   "metadata": {
    "ExecuteTime": {
     "end_time": "2024-10-29T19:17:44.355627Z",
     "start_time": "2024-10-29T19:17:44.340893Z"
    }
   },
   "outputs": [
    {
     "name": "stdout",
     "output_type": "stream",
     "text": [
      "<bound method DataFrame.isnull of         TOWN      TOWN_D  DISTRIBUTOR            DISTRIBUTR_D    POP  \\\n",
      "0        271      MULTAN        65184       Al-Rehman & CO-II   4287   \n",
      "1        271      MULTAN        65184       Al-Rehman & CO-II  15653   \n",
      "2        271      MULTAN        65184       Al-Rehman & CO-II  15654   \n",
      "3        271      MULTAN        65184       Al-Rehman & CO-II  15660   \n",
      "4        271      MULTAN        65184       Al-Rehman & CO-II  15886   \n",
      "...      ...         ...          ...                     ...    ...   \n",
      "332629   188  BAHAWALPUR        65191  AINEE MEDICINE COMPANY    586   \n",
      "332630   192    D-G-KHAN        65189           DAUD BROTHERS  26980   \n",
      "332631   192    D-G-KHAN        65189           DAUD BROTHERS  26980   \n",
      "332632   192    D-G-KHAN        65189           DAUD BROTHERS  27061   \n",
      "332633   192    D-G-KHAN        65189           DAUD BROTHERS  27213   \n",
      "\n",
      "                      NAME SECTION         SECTION_D  \n",
      "0             CHOICE BAK 1      18     Diwan ka Bagh  \n",
      "1               Naveed K/S      37      KECHARY ROAD  \n",
      "2              Decent  K/S      41           RAZABAD  \n",
      "3           AL  NUSRAT D/C      10     KECHEHRY ROAD  \n",
      "4            BISMILLAH K/S      08      NISHTER ROAD  \n",
      "...                    ...     ...               ...  \n",
      "332629  Sheikh Nasir Store      11  Ahmed pur road 2  \n",
      "332630             MSA G/S      33           Block-6  \n",
      "332631             MSA G/S      01        Rani Bazar  \n",
      "332632            ZAKA M/S      08          Pharmacy  \n",
      "332633          Sajjad K/S      29        Pir Adil-R  \n",
      "\n",
      "[332634 rows x 8 columns]>\n"
     ]
    }
   ],
   "source": [
    "print(dataset.isnull)"
   ]
  },
  {
   "cell_type": "code",
   "execution_count": 4,
   "id": "7294702a993dac85",
   "metadata": {
    "ExecuteTime": {
     "end_time": "2024-10-29T19:18:08.003998Z",
     "start_time": "2024-10-29T19:18:07.996019Z"
    },
    "scrolled": true
   },
   "outputs": [
    {
     "name": "stdout",
     "output_type": "stream",
     "text": [
      "<bound method DataFrame.notnull of         TOWN      TOWN_D  DISTRIBUTOR            DISTRIBUTR_D    POP  \\\n",
      "0        271      MULTAN        65184       Al-Rehman & CO-II   4287   \n",
      "1        271      MULTAN        65184       Al-Rehman & CO-II  15653   \n",
      "2        271      MULTAN        65184       Al-Rehman & CO-II  15654   \n",
      "3        271      MULTAN        65184       Al-Rehman & CO-II  15660   \n",
      "4        271      MULTAN        65184       Al-Rehman & CO-II  15886   \n",
      "...      ...         ...          ...                     ...    ...   \n",
      "332629   188  BAHAWALPUR        65191  AINEE MEDICINE COMPANY    586   \n",
      "332630   192    D-G-KHAN        65189           DAUD BROTHERS  26980   \n",
      "332631   192    D-G-KHAN        65189           DAUD BROTHERS  26980   \n",
      "332632   192    D-G-KHAN        65189           DAUD BROTHERS  27061   \n",
      "332633   192    D-G-KHAN        65189           DAUD BROTHERS  27213   \n",
      "\n",
      "                      NAME SECTION         SECTION_D  \n",
      "0             CHOICE BAK 1      18     Diwan ka Bagh  \n",
      "1               Naveed K/S      37      KECHARY ROAD  \n",
      "2              Decent  K/S      41           RAZABAD  \n",
      "3           AL  NUSRAT D/C      10     KECHEHRY ROAD  \n",
      "4            BISMILLAH K/S      08      NISHTER ROAD  \n",
      "...                    ...     ...               ...  \n",
      "332629  Sheikh Nasir Store      11  Ahmed pur road 2  \n",
      "332630             MSA G/S      33           Block-6  \n",
      "332631             MSA G/S      01        Rani Bazar  \n",
      "332632            ZAKA M/S      08          Pharmacy  \n",
      "332633          Sajjad K/S      29        Pir Adil-R  \n",
      "\n",
      "[332634 rows x 8 columns]>\n"
     ]
    }
   ],
   "source": [
    "print(dataset.notnull)"
   ]
  },
  {
   "cell_type": "code",
   "execution_count": 5,
   "id": "da75fa53bb3fba36",
   "metadata": {
    "ExecuteTime": {
     "end_time": "2024-10-29T19:18:26.527585Z",
     "start_time": "2024-10-29T19:18:26.325930Z"
    }
   },
   "outputs": [
    {
     "name": "stdout",
     "output_type": "stream",
     "text": [
      "        TOWN      TOWN_D  DISTRIBUTOR            DISTRIBUTR_D    POP  \\\n",
      "0        271      MULTAN        65184       Al-Rehman & CO-II   4287   \n",
      "1        271      MULTAN        65184       Al-Rehman & CO-II  15653   \n",
      "2        271      MULTAN        65184       Al-Rehman & CO-II  15654   \n",
      "3        271      MULTAN        65184       Al-Rehman & CO-II  15660   \n",
      "4        271      MULTAN        65184       Al-Rehman & CO-II  15886   \n",
      "...      ...         ...          ...                     ...    ...   \n",
      "332629   188  BAHAWALPUR        65191  AINEE MEDICINE COMPANY    586   \n",
      "332630   192    D-G-KHAN        65189           DAUD BROTHERS  26980   \n",
      "332631   192    D-G-KHAN        65189           DAUD BROTHERS  26980   \n",
      "332632   192    D-G-KHAN        65189           DAUD BROTHERS  27061   \n",
      "332633   192    D-G-KHAN        65189           DAUD BROTHERS  27213   \n",
      "\n",
      "                      NAME SECTION         SECTION_D  \n",
      "0             CHOICE BAK 1      18     Diwan ka Bagh  \n",
      "1               Naveed K/S      37      KECHARY ROAD  \n",
      "2              Decent  K/S      41           RAZABAD  \n",
      "3           AL  NUSRAT D/C      10     KECHEHRY ROAD  \n",
      "4            BISMILLAH K/S      08      NISHTER ROAD  \n",
      "...                    ...     ...               ...  \n",
      "332629  Sheikh Nasir Store      11  Ahmed pur road 2  \n",
      "332630             MSA G/S      33           Block-6  \n",
      "332631             MSA G/S      01        Rani Bazar  \n",
      "332632            ZAKA M/S      08          Pharmacy  \n",
      "332633          Sajjad K/S      29        Pir Adil-R  \n",
      "\n",
      "[332634 rows x 8 columns]\n"
     ]
    }
   ],
   "source": [
    "print(dataset.fillna(0))"
   ]
  },
  {
   "cell_type": "code",
   "execution_count": 7,
   "id": "ddd29f67971ca178",
   "metadata": {
    "ExecuteTime": {
     "end_time": "2024-10-29T19:18:42.797390Z",
     "start_time": "2024-10-29T19:18:42.519544Z"
    },
    "scrolled": true
   },
   "outputs": [
    {
     "name": "stderr",
     "output_type": "stream",
     "text": [
      "C:\\Users\\happy\\AppData\\Local\\Temp\\ipykernel_4168\\1469550567.py:1: FutureWarning: DataFrame.fillna with 'method' is deprecated and will raise in a future version. Use obj.ffill() or obj.bfill() instead.\n",
      "  print(dataset.fillna(method='pad'))\n"
     ]
    },
    {
     "name": "stdout",
     "output_type": "stream",
     "text": [
      "        TOWN      TOWN_D  DISTRIBUTOR            DISTRIBUTR_D    POP  \\\n",
      "0        271      MULTAN        65184       Al-Rehman & CO-II   4287   \n",
      "1        271      MULTAN        65184       Al-Rehman & CO-II  15653   \n",
      "2        271      MULTAN        65184       Al-Rehman & CO-II  15654   \n",
      "3        271      MULTAN        65184       Al-Rehman & CO-II  15660   \n",
      "4        271      MULTAN        65184       Al-Rehman & CO-II  15886   \n",
      "...      ...         ...          ...                     ...    ...   \n",
      "332629   188  BAHAWALPUR        65191  AINEE MEDICINE COMPANY    586   \n",
      "332630   192    D-G-KHAN        65189           DAUD BROTHERS  26980   \n",
      "332631   192    D-G-KHAN        65189           DAUD BROTHERS  26980   \n",
      "332632   192    D-G-KHAN        65189           DAUD BROTHERS  27061   \n",
      "332633   192    D-G-KHAN        65189           DAUD BROTHERS  27213   \n",
      "\n",
      "                      NAME SECTION         SECTION_D  \n",
      "0             CHOICE BAK 1      18     Diwan ka Bagh  \n",
      "1               Naveed K/S      37      KECHARY ROAD  \n",
      "2              Decent  K/S      41           RAZABAD  \n",
      "3           AL  NUSRAT D/C      10     KECHEHRY ROAD  \n",
      "4            BISMILLAH K/S      08      NISHTER ROAD  \n",
      "...                    ...     ...               ...  \n",
      "332629  Sheikh Nasir Store      11  Ahmed pur road 2  \n",
      "332630             MSA G/S      33           Block-6  \n",
      "332631             MSA G/S      01        Rani Bazar  \n",
      "332632            ZAKA M/S      08          Pharmacy  \n",
      "332633          Sajjad K/S      29        Pir Adil-R  \n",
      "\n",
      "[332634 rows x 8 columns]\n"
     ]
    }
   ],
   "source": [
    "print(dataset.fillna(method='pad'))"
   ]
  },
  {
   "cell_type": "code",
   "execution_count": 9,
   "id": "a403b4b08aa3e5f7",
   "metadata": {
    "ExecuteTime": {
     "end_time": "2024-10-29T19:19:18.041623Z",
     "start_time": "2024-10-29T19:19:17.754098Z"
    },
    "collapsed": true,
    "jupyter": {
     "outputs_hidden": true
    },
    "scrolled": true
   },
   "outputs": [
    {
     "name": "stderr",
     "output_type": "stream",
     "text": [
      "C:\\Users\\happy\\AppData\\Local\\Temp\\ipykernel_4168\\1684836687.py:1: FutureWarning: DataFrame.fillna with 'method' is deprecated and will raise in a future version. Use obj.ffill() or obj.bfill() instead.\n",
      "  print(dataset.fillna(method='bfill'))\n"
     ]
    },
    {
     "name": "stdout",
     "output_type": "stream",
     "text": [
      "        TOWN      TOWN_D  DISTRIBUTOR            DISTRIBUTR_D    POP  \\\n",
      "0        271      MULTAN        65184       Al-Rehman & CO-II   4287   \n",
      "1        271      MULTAN        65184       Al-Rehman & CO-II  15653   \n",
      "2        271      MULTAN        65184       Al-Rehman & CO-II  15654   \n",
      "3        271      MULTAN        65184       Al-Rehman & CO-II  15660   \n",
      "4        271      MULTAN        65184       Al-Rehman & CO-II  15886   \n",
      "...      ...         ...          ...                     ...    ...   \n",
      "332629   188  BAHAWALPUR        65191  AINEE MEDICINE COMPANY    586   \n",
      "332630   192    D-G-KHAN        65189           DAUD BROTHERS  26980   \n",
      "332631   192    D-G-KHAN        65189           DAUD BROTHERS  26980   \n",
      "332632   192    D-G-KHAN        65189           DAUD BROTHERS  27061   \n",
      "332633   192    D-G-KHAN        65189           DAUD BROTHERS  27213   \n",
      "\n",
      "                      NAME SECTION         SECTION_D  \n",
      "0             CHOICE BAK 1      18     Diwan ka Bagh  \n",
      "1               Naveed K/S      37      KECHARY ROAD  \n",
      "2              Decent  K/S      41           RAZABAD  \n",
      "3           AL  NUSRAT D/C      10     KECHEHRY ROAD  \n",
      "4            BISMILLAH K/S      08      NISHTER ROAD  \n",
      "...                    ...     ...               ...  \n",
      "332629  Sheikh Nasir Store      11  Ahmed pur road 2  \n",
      "332630             MSA G/S      33           Block-6  \n",
      "332631             MSA G/S      01        Rani Bazar  \n",
      "332632            ZAKA M/S      08          Pharmacy  \n",
      "332633          Sajjad K/S      29        Pir Adil-R  \n",
      "\n",
      "[332634 rows x 8 columns]\n"
     ]
    }
   ],
   "source": [
    "print(dataset.fillna(method='bfill'))"
   ]
  },
  {
   "cell_type": "code",
   "execution_count": 11,
   "id": "754a5e69c8f1c903",
   "metadata": {
    "ExecuteTime": {
     "end_time": "2024-10-29T19:19:44.056883Z",
     "start_time": "2024-10-29T19:19:43.860051Z"
    },
    "collapsed": true,
    "jupyter": {
     "outputs_hidden": true
    }
   },
   "outputs": [
    {
     "name": "stdout",
     "output_type": "stream",
     "text": [
      "        TOWN      TOWN_D  DISTRIBUTOR            DISTRIBUTR_D    POP  \\\n",
      "0        271      MULTAN        65184       Al-Rehman & CO-II   4287   \n",
      "1        271      MULTAN        65184       Al-Rehman & CO-II  15653   \n",
      "2        271      MULTAN        65184       Al-Rehman & CO-II  15654   \n",
      "3        271      MULTAN        65184       Al-Rehman & CO-II  15660   \n",
      "4        271      MULTAN        65184       Al-Rehman & CO-II  15886   \n",
      "...      ...         ...          ...                     ...    ...   \n",
      "332629   188  BAHAWALPUR        65191  AINEE MEDICINE COMPANY    586   \n",
      "332630   192    D-G-KHAN        65189           DAUD BROTHERS  26980   \n",
      "332631   192    D-G-KHAN        65189           DAUD BROTHERS  26980   \n",
      "332632   192    D-G-KHAN        65189           DAUD BROTHERS  27061   \n",
      "332633   192    D-G-KHAN        65189           DAUD BROTHERS  27213   \n",
      "\n",
      "                      NAME SECTION         SECTION_D  \n",
      "0             CHOICE BAK 1      18     Diwan ka Bagh  \n",
      "1               Naveed K/S      37      KECHARY ROAD  \n",
      "2              Decent  K/S      41           RAZABAD  \n",
      "3           AL  NUSRAT D/C      10     KECHEHRY ROAD  \n",
      "4            BISMILLAH K/S      08      NISHTER ROAD  \n",
      "...                    ...     ...               ...  \n",
      "332629  Sheikh Nasir Store      11  Ahmed pur road 2  \n",
      "332630             MSA G/S      33           Block-6  \n",
      "332631             MSA G/S      01        Rani Bazar  \n",
      "332632            ZAKA M/S      08          Pharmacy  \n",
      "332633          Sajjad K/S      29        Pir Adil-R  \n",
      "\n",
      "[332634 rows x 8 columns]\n"
     ]
    }
   ],
   "source": [
    "print(dataset.replace(to_replace=np.nan, value=0))\n"
   ]
  },
  {
   "cell_type": "code",
   "execution_count": 12,
   "id": "3aebd181cbea07ec",
   "metadata": {
    "ExecuteTime": {
     "end_time": "2024-10-29T19:19:55.510824Z",
     "start_time": "2024-10-29T19:19:55.461549Z"
    },
    "scrolled": true
   },
   "outputs": [
    {
     "name": "stdout",
     "output_type": "stream",
     "text": [
      "        TOWN      TOWN_D  DISTRIBUTOR            DISTRIBUTR_D    POP  \\\n",
      "0        271      MULTAN        65184       Al-Rehman & CO-II   4287   \n",
      "1        271      MULTAN        65184       Al-Rehman & CO-II  15653   \n",
      "2        271      MULTAN        65184       Al-Rehman & CO-II  15654   \n",
      "3        271      MULTAN        65184       Al-Rehman & CO-II  15660   \n",
      "4        271      MULTAN        65184       Al-Rehman & CO-II  15886   \n",
      "...      ...         ...          ...                     ...    ...   \n",
      "332629   188  BAHAWALPUR        65191  AINEE MEDICINE COMPANY    586   \n",
      "332630   192    D-G-KHAN        65189           DAUD BROTHERS  26980   \n",
      "332631   192    D-G-KHAN        65189           DAUD BROTHERS  26980   \n",
      "332632   192    D-G-KHAN        65189           DAUD BROTHERS  27061   \n",
      "332633   192    D-G-KHAN        65189           DAUD BROTHERS  27213   \n",
      "\n",
      "                      NAME SECTION         SECTION_D  \n",
      "0             CHOICE BAK 1      18     Diwan ka Bagh  \n",
      "1               Naveed K/S      37      KECHARY ROAD  \n",
      "2              Decent  K/S      41           RAZABAD  \n",
      "3           AL  NUSRAT D/C      10     KECHEHRY ROAD  \n",
      "4            BISMILLAH K/S      08      NISHTER ROAD  \n",
      "...                    ...     ...               ...  \n",
      "332629  Sheikh Nasir Store      11  Ahmed pur road 2  \n",
      "332630             MSA G/S      33           Block-6  \n",
      "332631             MSA G/S      01        Rani Bazar  \n",
      "332632            ZAKA M/S      08          Pharmacy  \n",
      "332633          Sajjad K/S      29        Pir Adil-R  \n",
      "\n",
      "[332634 rows x 8 columns]\n"
     ]
    },
    {
     "name": "stderr",
     "output_type": "stream",
     "text": [
      "C:\\Users\\happy\\AppData\\Local\\Temp\\ipykernel_4168\\3961445635.py:1: FutureWarning: DataFrame.interpolate with object dtype is deprecated and will raise in a future version. Call obj.infer_objects(copy=False) before interpolating instead.\n",
      "  print(dataset.interpolate(method='linear', limit_direction='forward'))\n"
     ]
    }
   ],
   "source": [
    "print(dataset.interpolate(method='linear', limit_direction='forward'))"
   ]
  }
 ],
 "metadata": {
  "kernelspec": {
   "display_name": "Python 3 (ipykernel)",
   "language": "python",
   "name": "python3"
  },
  "language_info": {
   "codemirror_mode": {
    "name": "ipython",
    "version": 3
   },
   "file_extension": ".py",
   "mimetype": "text/x-python",
   "name": "python",
   "nbconvert_exporter": "python",
   "pygments_lexer": "ipython3",
   "version": "3.12.3"
  }
 },
 "nbformat": 4,
 "nbformat_minor": 5
}
