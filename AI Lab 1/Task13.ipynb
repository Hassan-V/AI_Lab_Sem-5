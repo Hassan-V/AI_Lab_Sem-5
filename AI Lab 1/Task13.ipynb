{
 "cells": [
  {
   "cell_type": "code",
   "execution_count": 1,
   "id": "initial_id",
   "metadata": {
    "ExecuteTime": {
     "end_time": "2024-10-22T16:48:08.430635Z",
     "start_time": "2024-10-22T16:48:08.425270Z"
    }
   },
   "outputs": [],
   "source": [
    "stages = [\n",
    "            [0,2,\"Baby\"],\n",
    "            [2,4,\"Toddler\"],\n",
    "            [4,13,\"Kid\"],\n",
    "            [13,20,\"Teenager\"],\n",
    "            [20,65,\"Adult\"],\n",
    "            [65,150,\"Elder\"]\n",
    "            ]"
   ]
  },
  {
   "cell_type": "code",
   "execution_count": 2,
   "id": "9ca109db5598c251",
   "metadata": {
    "ExecuteTime": {
     "end_time": "2024-10-22T16:48:08.575168Z",
     "start_time": "2024-10-22T16:48:08.569539Z"
    }
   },
   "outputs": [],
   "source": [
    "def evaluate_stage(age: float) -> None:\n",
    "    for stage in stages:\n",
    "        if stage[0] <= age < stage[1]:\n",
    "            print(stage[2])\n",
    "            return"
   ]
  },
  {
   "cell_type": "code",
   "execution_count": 3,
   "id": "b84a2718ff03f3f1",
   "metadata": {
    "ExecuteTime": {
     "end_time": "2024-10-22T16:48:08.753185Z",
     "start_time": "2024-10-22T16:48:08.747613Z"
    }
   },
   "outputs": [],
   "source": [
    "def main(depth: int = 2) -> None:\n",
    "    age: str = input(\"Enter your age: \")\n",
    "    if age.isnumeric():\n",
    "        evaluate_stage(float(age))\n",
    "    elif depth == 0:\n",
    "        print(\"invalid Input!\")\n",
    "    else:\n",
    "        main(depth - 1)"
   ]
  },
  {
   "cell_type": "code",
   "execution_count": 4,
   "id": "2c34b0e91df22889",
   "metadata": {
    "ExecuteTime": {
     "end_time": "2024-10-22T16:48:21.355768Z",
     "start_time": "2024-10-22T16:48:15.581624Z"
    }
   },
   "outputs": [
    {
     "name": "stdin",
     "output_type": "stream",
     "text": [
      "Enter your age:  13\n"
     ]
    },
    {
     "name": "stdout",
     "output_type": "stream",
     "text": [
      "Teenager\n"
     ]
    }
   ],
   "source": [
    "if __name__ == \"__main__\":\n",
    "    main()"
   ]
  },
  {
   "cell_type": "code",
   "execution_count": null,
   "id": "825f651f-29c5-4725-9230-1c42b2e6b289",
   "metadata": {},
   "outputs": [],
   "source": []
  }
 ],
 "metadata": {
  "kernelspec": {
   "display_name": "Python 3 (ipykernel)",
   "language": "python",
   "name": "python3"
  },
  "language_info": {
   "codemirror_mode": {
    "name": "ipython",
    "version": 3
   },
   "file_extension": ".py",
   "mimetype": "text/x-python",
   "name": "python",
   "nbconvert_exporter": "python",
   "pygments_lexer": "ipython3",
   "version": "3.11.9"
  }
 },
 "nbformat": 4,
 "nbformat_minor": 5
}
