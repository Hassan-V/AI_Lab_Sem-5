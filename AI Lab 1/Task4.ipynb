{
 "cells": [
  {
   "metadata": {},
   "cell_type": "markdown",
   "source": "",
   "id": "9405aead69ba410f"
  },
  {
   "cell_type": "code",
   "id": "initial_id",
   "metadata": {
    "collapsed": true,
    "ExecuteTime": {
     "end_time": "2024-10-21T20:01:30.229942Z",
     "start_time": "2024-10-21T20:01:30.223958Z"
    }
   },
   "source": [
    "from typing import List \n",
    "\n",
    "def validate_color(color: str, colors: List[str]) -> bool:\n",
    "    if color not in colors:\n",
    "        return False\n",
    "    return True"
   ],
   "outputs": [],
   "execution_count": 8
  },
  {
   "metadata": {
    "ExecuteTime": {
     "end_time": "2024-10-21T20:01:30.420353Z",
     "start_time": "2024-10-21T20:01:30.414369Z"
    }
   },
   "cell_type": "code",
   "source": [
    "def generate_pattern(color: str, limit: int = 10) -> str:\n",
    "    size = len(color)\n",
    "    line_one = color*limit\n",
    "    line_two = color+(\" \"*(limit-2)*size)+color\n",
    "    \n",
    "    return line_one+\"\\n\"+line_two+\"\\n\"+line_one"
   ],
   "id": "5cc65292eb2e200e",
   "outputs": [],
   "execution_count": 9
  },
  {
   "metadata": {
    "ExecuteTime": {
     "end_time": "2024-10-21T20:01:30.564315Z",
     "start_time": "2024-10-21T20:01:30.557892Z"
    }
   },
   "cell_type": "code",
   "source": "selected_colors = [\"red\",\"blue\",\"black\",\"white\",\"pink\",\"purple\",\"magenta\",\"rouge\",\"blanc\", \"noir\"]",
   "id": "148a9c72399fd502",
   "outputs": [],
   "execution_count": 10
  },
  {
   "metadata": {
    "ExecuteTime": {
     "end_time": "2024-10-21T20:01:30.724758Z",
     "start_time": "2024-10-21T20:01:30.718888Z"
    }
   },
   "cell_type": "code",
   "source": [
    "def main(depth: int = 2) -> None:\n",
    "    print(\"Available colors:\", selected_colors)\n",
    "    color = input(\"Enter your color: \")\n",
    "    \n",
    "    if validate_color(color, selected_colors):\n",
    "        print(generate_pattern((color)))\n",
    "    elif depth == 0:\n",
    "        print(\"Invalid color! Exiting\")\n",
    "    else:\n",
    "        main(depth-1)"
   ],
   "id": "771c89a3793afe1f",
   "outputs": [],
   "execution_count": 11
  },
  {
   "metadata": {
    "ExecuteTime": {
     "end_time": "2024-10-21T20:01:34.896004Z",
     "start_time": "2024-10-21T20:01:30.977862Z"
    }
   },
   "cell_type": "code",
   "source": [
    "if __name__ == \"__main__\":\n",
    "    main()"
   ],
   "id": "4bddff86aab379f3",
   "outputs": [
    {
     "name": "stdout",
     "output_type": "stream",
     "text": [
      "Available colors: ['red', 'blue', 'black', 'white', 'pink', 'purple', 'magenta', 'rouge', 'blanc', 'noir']\n",
      "redredredredredredredredredred\n",
      "red                        red\n",
      "redredredredredredredredredred\n"
     ]
    }
   ],
   "execution_count": 12
  }
 ],
 "metadata": {
  "kernelspec": {
   "display_name": "Python 3",
   "language": "python",
   "name": "python3"
  },
  "language_info": {
   "codemirror_mode": {
    "name": "ipython",
    "version": 2
   },
   "file_extension": ".py",
   "mimetype": "text/x-python",
   "name": "python",
   "nbconvert_exporter": "python",
   "pygments_lexer": "ipython2",
   "version": "2.7.6"
  }
 },
 "nbformat": 4,
 "nbformat_minor": 5
}
