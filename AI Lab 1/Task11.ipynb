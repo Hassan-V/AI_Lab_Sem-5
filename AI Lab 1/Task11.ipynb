{
 "cells": [
  {
   "cell_type": "code",
   "id": "initial_id",
   "metadata": {
    "collapsed": true,
    "ExecuteTime": {
     "end_time": "2024-10-22T12:48:26.314514Z",
     "start_time": "2024-10-22T12:48:26.305013Z"
    }
   },
   "source": [
    "def print_numbers(limit:int, excluded_factor: int = 3) -> None:\n",
    "    for i in range(1, limit+1):\n",
    "        if not (i % excluded_factor == 0):\n",
    "            print(\"integer:\",i)"
   ],
   "outputs": [],
   "execution_count": 1
  },
  {
   "metadata": {
    "ExecuteTime": {
     "end_time": "2024-10-22T12:48:39.295500Z",
     "start_time": "2024-10-22T12:48:39.289368Z"
    }
   },
   "cell_type": "code",
   "source": [
    "if __name__ == \"__main__\":\n",
    "    print_numbers(6)"
   ],
   "id": "ebf860992284435f",
   "outputs": [
    {
     "name": "stdout",
     "output_type": "stream",
     "text": [
      "integer: 1\n",
      "integer: 2\n",
      "integer: 4\n",
      "integer: 5\n"
     ]
    }
   ],
   "execution_count": 2
  },
  {
   "metadata": {},
   "cell_type": "code",
   "outputs": [],
   "execution_count": null,
   "source": "",
   "id": "f341233adead8763"
  }
 ],
 "metadata": {
  "kernelspec": {
   "display_name": "Python 3",
   "language": "python",
   "name": "python3"
  },
  "language_info": {
   "codemirror_mode": {
    "name": "ipython",
    "version": 2
   },
   "file_extension": ".py",
   "mimetype": "text/x-python",
   "name": "python",
   "nbconvert_exporter": "python",
   "pygments_lexer": "ipython2",
   "version": "2.7.6"
  }
 },
 "nbformat": 4,
 "nbformat_minor": 5
}
