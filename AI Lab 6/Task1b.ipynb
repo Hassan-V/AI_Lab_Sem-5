{
 "cells": [
  {
   "cell_type": "code",
   "id": "initial_id",
   "metadata": {
    "collapsed": true,
    "ExecuteTime": {
     "end_time": "2024-11-26T20:01:37.270201Z",
     "start_time": "2024-11-26T20:01:37.259855Z"
    }
   },
   "source": [
    "import pandas as pd\n",
    "from sklearn.cluster import KMeans\n",
    "from sklearn.metrics import confusion_matrix, accuracy_score, adjusted_rand_score, silhouette_score\n",
    "import numpy as np\n",
    "from scipy.stats import mode\n",
    "\n",
    "data = {\n",
    "    'Objects': ['OB-1', 'OB-2', 'OB-3', 'OB-4', 'OB-5', 'OB-6', 'OB-7', 'OB-8'],\n",
    "    'X': [1, 1, 1, 2, 1, 2, 1, 2],\n",
    "    'Y': [4, 2, 4, 1, 1, 4, 1, 1],\n",
    "    'Z': [1, 2, 2, 2, 1, 2, 2, 1],\n",
    "    'True_Label': [0, 1, 0, 2, 1, 0, 1, 2]\n",
    "}\n",
    "\n",
    "def map_clusters_to_labels(true_labels, clusters):\n",
    "    labels = np.zeros_like(clusters)\n",
    "    for i in range(3):\n",
    "        mask = (clusters == i)\n",
    "        labels[mask] = mode(true_labels[mask])[0]\n",
    "    return labels"
   ],
   "outputs": [],
   "execution_count": 3
  },
  {
   "metadata": {
    "ExecuteTime": {
     "end_time": "2024-11-26T20:01:37.582211Z",
     "start_time": "2024-11-26T20:01:37.543653Z"
    }
   },
   "cell_type": "code",
   "source": [
    "df = pd.DataFrame(data)\n",
    "X = df[['X', 'Y', 'Z']]\n",
    "kmeans = KMeans(n_clusters=3, random_state=21)\n",
    "kmeans.fit(X)\n",
    "df['Cluster'] = kmeans.predict(X)\n",
    "\n",
    "mapped_clusters = map_clusters_to_labels(df['True_Label'].values, df['Cluster'].values)\n",
    "\n",
    "conf_matrix = confusion_matrix(df['True_Label'], mapped_clusters)\n",
    "accuracy = accuracy_score(df['True_Label'], mapped_clusters)\n",
    "ari = adjusted_rand_score(df['True_Label'], df['Cluster'])\n",
    "silhouette = silhouette_score(X, df['Cluster'])"
   ],
   "id": "d70900d4c1683788",
   "outputs": [],
   "execution_count": 4
  },
  {
   "metadata": {
    "ExecuteTime": {
     "end_time": "2024-11-26T20:01:37.896855Z",
     "start_time": "2024-11-26T20:01:37.889903Z"
    }
   },
   "cell_type": "code",
   "source": [
    "print(\"Confusion Matrix:\")\n",
    "print(conf_matrix)\n",
    "print(f\"Accuracy: {accuracy * 100:.2f}%\")\n",
    "print(f\"Adjusted Rand Index (ARI): {ari:.2f}\")\n",
    "print(f\"Silhouette Score: {silhouette:.2f}\")"
   ],
   "id": "4276fe9aec25e76c",
   "outputs": [
    {
     "name": "stdout",
     "output_type": "stream",
     "text": [
      "Confusion Matrix:\n",
      "[[3 0 0]\n",
      " [0 3 0]\n",
      " [0 2 0]]\n",
      "Accuracy: 75.00%\n",
      "Adjusted Rand Index (ARI): 0.36\n",
      "Silhouette Score: 0.38\n"
     ]
    }
   ],
   "execution_count": 5
  },
  {
   "metadata": {},
   "cell_type": "code",
   "outputs": [],
   "execution_count": null,
   "source": "",
   "id": "d0135c18ba34bcb8"
  }
 ],
 "metadata": {
  "kernelspec": {
   "display_name": "Python 3",
   "language": "python",
   "name": "python3"
  },
  "language_info": {
   "codemirror_mode": {
    "name": "ipython",
    "version": 2
   },
   "file_extension": ".py",
   "mimetype": "text/x-python",
   "name": "python",
   "nbconvert_exporter": "python",
   "pygments_lexer": "ipython2",
   "version": "2.7.6"
  }
 },
 "nbformat": 4,
 "nbformat_minor": 5
}
