{
 "cells": [
  {
   "cell_type": "code",
   "id": "initial_id",
   "metadata": {
    "collapsed": true,
    "ExecuteTime": {
     "end_time": "2025-01-07T19:59:40.117844Z",
     "start_time": "2025-01-07T19:59:40.108306Z"
    }
   },
   "source": [
    "class DinnerInvitation:\n",
    "\n",
    "    def __init__(self, guests):\n",
    "        self.guests = guests\n",
    "    \n",
    "    def update_guest_list(self, guest_to_remove, new_guest):\n",
    "        if guest_to_remove in self.guests:\n",
    "            index = self.guests.index(guest_to_remove)\n",
    "            self.guests[index] = new_guest\n",
    "    \n",
    "    def send_invitations(self):\n",
    "        for guest in self.guests:\n",
    "            print(f\"Assalam O Alaikum {guest},\\n\"\n",
    "                  f\"You are heartily invited to my humble dinner party.\\n\"\n",
    "                  f\"It would be an honor to have your esteemed self you join me.\\n\"\n",
    "                  f\"Verily,\\n\"\n",
    "                  f\"Hassan-v\\n\")"
   ],
   "outputs": [],
   "execution_count": 1
  },
  {
   "metadata": {
    "ExecuteTime": {
     "end_time": "2025-01-07T20:01:25.040441Z",
     "start_time": "2025-01-07T20:01:25.033442Z"
    }
   },
   "cell_type": "code",
   "source": [
    "dinner_guests = DinnerInvitation([\"Mufti Muhammad Taqi Usmani\", \"Ibu Khan\", \"Arqum Chacha\", \"Qazi Sahab\", \"Mr. Pugrammer\"])\n",
    "dinner_guests.send_invitations()"
   ],
   "id": "503e2de48133d4d3",
   "outputs": [
    {
     "name": "stdout",
     "output_type": "stream",
     "text": [
      "Assalam O Alaikum Mufti Muhammad Taqi Usmani,\n",
      "You are heartily invited to my humble dinner party.\n",
      "It would be an honor to have your esteemed self you join me.\n",
      "Verily,\n",
      "Hassan-v\n",
      "\n",
      "Assalam O Alaikum Ibu Khan,\n",
      "You are heartily invited to my humble dinner party.\n",
      "It would be an honor to have your esteemed self you join me.\n",
      "Verily,\n",
      "Hassan-v\n",
      "\n",
      "Assalam O Alaikum Arqum Chacha,\n",
      "You are heartily invited to my humble dinner party.\n",
      "It would be an honor to have your esteemed self you join me.\n",
      "Verily,\n",
      "Hassan-v\n",
      "\n",
      "Assalam O Alaikum Qazi Sahab,\n",
      "You are heartily invited to my humble dinner party.\n",
      "It would be an honor to have your esteemed self you join me.\n",
      "Verily,\n",
      "Hassan-v\n",
      "\n",
      "Assalam O Alaikum Mr. Pugrammer,\n",
      "You are heartily invited to my humble dinner party.\n",
      "It would be an honor to have your esteemed self you join me.\n",
      "Verily,\n",
      "Hassan-v\n",
      "\n"
     ]
    }
   ],
   "execution_count": 3
  },
  {
   "metadata": {
    "ExecuteTime": {
     "end_time": "2025-01-07T20:01:27.187916Z",
     "start_time": "2025-01-07T20:01:27.179432Z"
    }
   },
   "cell_type": "code",
   "source": [
    "dinner_guests.update_guest_list(\"Arqum Chacha\", \"Arkum Uncle\")\n",
    "dinner_guests.send_invitations()"
   ],
   "id": "8c9bd56d8ab97288",
   "outputs": [
    {
     "name": "stdout",
     "output_type": "stream",
     "text": [
      "Assalam O Alaikum Mufti Muhammad Taqi Usmani,\n",
      "You are heartily invited to my humble dinner party.\n",
      "It would be an honor to have your esteemed self you join me.\n",
      "Verily,\n",
      "Hassan-v\n",
      "\n",
      "Assalam O Alaikum Ibu Khan,\n",
      "You are heartily invited to my humble dinner party.\n",
      "It would be an honor to have your esteemed self you join me.\n",
      "Verily,\n",
      "Hassan-v\n",
      "\n",
      "Assalam O Alaikum Arkum Uncle,\n",
      "You are heartily invited to my humble dinner party.\n",
      "It would be an honor to have your esteemed self you join me.\n",
      "Verily,\n",
      "Hassan-v\n",
      "\n",
      "Assalam O Alaikum Qazi Sahab,\n",
      "You are heartily invited to my humble dinner party.\n",
      "It would be an honor to have your esteemed self you join me.\n",
      "Verily,\n",
      "Hassan-v\n",
      "\n",
      "Assalam O Alaikum Mr. Pugrammer,\n",
      "You are heartily invited to my humble dinner party.\n",
      "It would be an honor to have your esteemed self you join me.\n",
      "Verily,\n",
      "Hassan-v\n",
      "\n"
     ]
    }
   ],
   "execution_count": 4
  },
  {
   "metadata": {},
   "cell_type": "code",
   "outputs": [],
   "execution_count": null,
   "source": "",
   "id": "df94076a65f55ffb"
  }
 ],
 "metadata": {
  "kernelspec": {
   "display_name": "Python 3",
   "language": "python",
   "name": "python3"
  },
  "language_info": {
   "codemirror_mode": {
    "name": "ipython",
    "version": 2
   },
   "file_extension": ".py",
   "mimetype": "text/x-python",
   "name": "python",
   "nbconvert_exporter": "python",
   "pygments_lexer": "ipython2",
   "version": "2.7.6"
  }
 },
 "nbformat": 4,
 "nbformat_minor": 5
}
