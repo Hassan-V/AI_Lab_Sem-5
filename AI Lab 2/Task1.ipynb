{
 "cells": [
  {
   "cell_type": "code",
   "id": "initial_id",
   "metadata": {
    "collapsed": true,
    "jupyter": {
     "outputs_hidden": true
    },
    "ExecuteTime": {
     "end_time": "2024-10-28T17:44:38.164737Z",
     "start_time": "2024-10-28T17:44:36.667789Z"
    }
   },
   "source": "import pandas as pd",
   "outputs": [],
   "execution_count": 1
  },
  {
   "cell_type": "code",
   "id": "b1f848897bb69ea8",
   "metadata": {
    "ExecuteTime": {
     "end_time": "2024-10-28T17:45:23.866165Z",
     "start_time": "2024-10-28T17:44:38.173709Z"
    }
   },
   "source": [
    "employee_data = pd.read_csv('dataset.csv')\n",
    "sales_data = pd.read_excel('spw.xlsx')"
   ],
   "outputs": [],
   "execution_count": 2
  },
  {
   "cell_type": "markdown",
   "id": "fa97a979ecc7a3cb",
   "metadata": {},
   "source": []
  },
  {
   "cell_type": "code",
   "execution_count": 8,
   "id": "6bd114b06e47818d",
   "metadata": {
    "ExecuteTime": {
     "end_time": "2024-10-28T17:30:48.472413Z",
     "start_time": "2024-10-28T17:30:47.283809Z"
    }
   },
   "outputs": [
    {
     "name": "stdout",
     "output_type": "stream",
     "text": [
      "       ADEmail BusinessUnit  Current Employee Rating  DISTRIBUTOR  \\\n",
      "0          NaN          NaN                      NaN          NaN   \n",
      "1          NaN          NaN                      NaN          NaN   \n",
      "2          NaN          NaN                      NaN          NaN   \n",
      "3          NaN          NaN                      NaN          NaN   \n",
      "4          NaN          NaN                      NaN          NaN   \n",
      "...        ...          ...                      ...          ...   \n",
      "332629     NaN          NaN                      NaN          NaN   \n",
      "332630     NaN          NaN                      NaN          NaN   \n",
      "332631     NaN          NaN                      NaN          NaN   \n",
      "332632     NaN          NaN                      NaN          NaN   \n",
      "332633     NaN          NaN                      NaN          NaN   \n",
      "\n",
      "       DISTRIBUTR_D  DOB DepartmentType Division  EmpID  \\\n",
      "0               NaN  NaN            NaN      NaN    NaN   \n",
      "1               NaN  NaN            NaN      NaN    NaN   \n",
      "2               NaN  NaN            NaN      NaN    NaN   \n",
      "3               NaN  NaN            NaN      NaN    NaN   \n",
      "4               NaN  NaN            NaN      NaN    NaN   \n",
      "...             ...  ...            ...      ...    ...   \n",
      "332629          NaN  NaN            NaN      NaN    NaN   \n",
      "332630          NaN  NaN            NaN      NaN    NaN   \n",
      "332631          NaN  NaN            NaN      NaN    NaN   \n",
      "332632          NaN  NaN            NaN      NaN    NaN   \n",
      "332633          NaN  NaN            NaN      NaN    NaN   \n",
      "\n",
      "       EmployeeClassificationType  ... SECTION SECTION_D StartDate State  \\\n",
      "0                             NaN  ...     NaN       NaN       NaN   NaN   \n",
      "1                             NaN  ...     NaN       NaN       NaN   NaN   \n",
      "2                             NaN  ...     NaN       NaN       NaN   NaN   \n",
      "3                             NaN  ...     NaN       NaN       NaN   NaN   \n",
      "4                             NaN  ...     NaN       NaN       NaN   NaN   \n",
      "...                           ...  ...     ...       ...       ...   ...   \n",
      "332629                        NaN  ...     NaN       NaN       NaN   NaN   \n",
      "332630                        NaN  ...     NaN       NaN       NaN   NaN   \n",
      "332631                        NaN  ...     NaN       NaN       NaN   NaN   \n",
      "332632                        NaN  ...     NaN       NaN       NaN   NaN   \n",
      "332633                        NaN  ...     NaN       NaN       NaN   NaN   \n",
      "\n",
      "       Supervisor TOWN TOWN_D  TerminationDescription TerminationType Title  \n",
      "0             NaN  NaN    NaN                     NaN             NaN   NaN  \n",
      "1             NaN  NaN    NaN                     NaN             NaN   NaN  \n",
      "2             NaN  NaN    NaN                     NaN             NaN   NaN  \n",
      "3             NaN  NaN    NaN                     NaN             NaN   NaN  \n",
      "4             NaN  NaN    NaN                     NaN             NaN   NaN  \n",
      "...           ...  ...    ...                     ...             ...   ...  \n",
      "332629        NaN  NaN    NaN                     NaN             NaN   NaN  \n",
      "332630        NaN  NaN    NaN                     NaN             NaN   NaN  \n",
      "332631        NaN  NaN    NaN                     NaN             NaN   NaN  \n",
      "332632        NaN  NaN    NaN                     NaN             NaN   NaN  \n",
      "332633        NaN  NaN    NaN                     NaN             NaN   NaN  \n",
      "\n",
      "[332634 rows x 34 columns]\n"
     ]
    }
   ],
   "source": [
    "print(employee_data+sales_data)"
   ]
  },
  {
   "cell_type": "code",
   "execution_count": null,
   "id": "c5239289228d7e6f",
   "metadata": {},
   "outputs": [],
   "source": []
  }
 ],
 "metadata": {
  "kernelspec": {
   "display_name": "Python 3 (ipykernel)",
   "language": "python",
   "name": "python3"
  },
  "language_info": {
   "codemirror_mode": {
    "name": "ipython",
    "version": 3
   },
   "file_extension": ".py",
   "mimetype": "text/x-python",
   "name": "python",
   "nbconvert_exporter": "python",
   "pygments_lexer": "ipython3",
   "version": "3.12.3"
  }
 },
 "nbformat": 4,
 "nbformat_minor": 5
}
