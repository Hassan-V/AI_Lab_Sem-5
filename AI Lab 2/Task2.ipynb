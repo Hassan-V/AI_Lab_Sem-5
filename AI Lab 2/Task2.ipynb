{
 "cells": [
  {
   "cell_type": "code",
   "execution_count": 3,
   "id": "initial_id",
   "metadata": {
    "ExecuteTime": {
     "end_time": "2024-10-28T17:38:15.503784Z",
     "start_time": "2024-10-28T17:38:15.498778Z"
    },
    "collapsed": true,
    "jupyter": {
     "outputs_hidden": true
    }
   },
   "outputs": [],
   "source": [
    "import pandas as pd\n",
    "\n",
    "data = [\n",
    "    [\"Taqumi\", 0, 20, 2],\n",
    "    [\"Marty\", 84, 35, 55],\n",
    "    [\"Gloria\", 19, 89, 99],\n",
    "    [\"Melman\", 89, 92, 100]\n",
    "            ]"
   ]
  },
  {
   "cell_type": "code",
   "execution_count": 4,
   "id": "61e8c17262fab74c",
   "metadata": {
    "ExecuteTime": {
     "end_time": "2024-10-28T17:38:16.181547Z",
     "start_time": "2024-10-28T17:38:16.175751Z"
    }
   },
   "outputs": [],
   "source": [
    "data_frame = pd.DataFrame(data, columns=[\"ID\", \"Urdu\", \"English\", \"Maths\"])"
   ]
  },
  {
   "cell_type": "code",
   "execution_count": 5,
   "id": "bbdfd7bb22db17bb",
   "metadata": {
    "ExecuteTime": {
     "end_time": "2024-10-28T17:38:22.003218Z",
     "start_time": "2024-10-28T17:38:21.997857Z"
    }
   },
   "outputs": [
    {
     "name": "stdout",
     "output_type": "stream",
     "text": [
      "       ID  Urdu  English  Maths\n",
      "0  Taqumi     0       20      2\n",
      "1   Marty    84       35     55\n",
      "2  Gloria    19       89     99\n",
      "3  Melman    89       92    100\n"
     ]
    }
   ],
   "source": [
    "print(data_frame)"
   ]
  },
  {
   "cell_type": "code",
   "execution_count": null,
   "id": "77738d3c3a791953",
   "metadata": {},
   "outputs": [],
   "source": []
  }
 ],
 "metadata": {
  "kernelspec": {
   "display_name": "Python 3 (ipykernel)",
   "language": "python",
   "name": "python3"
  },
  "language_info": {
   "codemirror_mode": {
    "name": "ipython",
    "version": 3
   },
   "file_extension": ".py",
   "mimetype": "text/x-python",
   "name": "python",
   "nbconvert_exporter": "python",
   "pygments_lexer": "ipython3",
   "version": "3.12.3"
  }
 },
 "nbformat": 4,
 "nbformat_minor": 5
}
