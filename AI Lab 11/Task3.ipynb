{
 "cells": [
  {
   "cell_type": "code",
   "id": "40f4a93be6d58f50",
   "metadata": {
    "ExecuteTime": {
     "end_time": "2025-01-07T20:20:36.525024Z",
     "start_time": "2025-01-07T20:20:36.513492Z"
    }
   },
   "source": [
    "class Vertex:\n",
    "    def __init__(self, value):\n",
    "        self.value = value\n",
    "        self.neighbors = []\n",
    "\n",
    "    def add_neighbor(self, neighbor):\n",
    "        if neighbor not in self.neighbors:\n",
    "            self.neighbors.append(neighbor)\n",
    "            self.neighbors.sort()\n",
    "\n",
    "    def __str__(self):\n",
    "        return f\"{self.value} -> {', '.join([str(neighbor) for neighbor in self.neighbors])}\""
   ],
   "outputs": [],
   "execution_count": 1
  },
  {
   "metadata": {
    "ExecuteTime": {
     "end_time": "2025-01-07T20:20:38.995819Z",
     "start_time": "2025-01-07T20:20:38.984312Z"
    }
   },
   "cell_type": "code",
   "source": [
    "class Graph:\n",
    "    def __init__(self):\n",
    "        self.vertices = {}\n",
    "\n",
    "    def add_vertex(self, value):\n",
    "        if value not in self.vertices:\n",
    "            self.vertices[value] = Vertex(value)\n",
    "\n",
    "    def add_vertices(self, values):\n",
    "        for value in values:\n",
    "            self.add_vertex(value)\n",
    "\n",
    "    def add_edge(self, from_vertex, to_vertex):\n",
    "        if from_vertex in self.vertices and to_vertex in self.vertices:\n",
    "            self.vertices[from_vertex].add_neighbor(to_vertex)\n",
    "            self.vertices[to_vertex].add_neighbor(from_vertex) \n",
    "\n",
    "    def display_graph(self):\n",
    "        for vertex in self.vertices.values():\n",
    "            print(vertex)\n",
    "\n",
    "    def get_vertices(self):\n",
    "        return list(self.vertices.keys())"
   ],
   "id": "4cb102dffafbce55",
   "outputs": [],
   "execution_count": 2
  },
  {
   "metadata": {
    "collapsed": true,
    "ExecuteTime": {
     "end_time": "2025-01-07T20:20:44.612475Z",
     "start_time": "2025-01-07T20:20:44.605359Z"
    }
   },
   "cell_type": "code",
   "source": [
    "if __name__ == \"__main__\":\n",
    "    graph = Graph()\n",
    "\n",
    "    graph.add_vertices(['A', 'B', 'C', 'D', 'E'])\n",
    "\n",
    "    graph.add_edge('A', 'B')\n",
    "    graph.add_edge('A', 'C')\n",
    "    graph.add_edge('A', 'E')\n",
    "    graph.add_edge('B', 'C')\n",
    "    graph.add_edge('C', 'D')\n",
    "    graph.add_edge('C', 'E')\n",
    "\n",
    "    graph.display_graph()\n"
   ],
   "id": "initial_id",
   "outputs": [
    {
     "name": "stdout",
     "output_type": "stream",
     "text": [
      "A -> B, C, E\n",
      "B -> A, C\n",
      "C -> A, B, D, E\n",
      "D -> C\n",
      "E -> A, C\n"
     ]
    }
   ],
   "execution_count": 3
  }
 ],
 "metadata": {
  "kernelspec": {
   "display_name": "Python 3",
   "language": "python",
   "name": "python3"
  },
  "language_info": {
   "codemirror_mode": {
    "name": "ipython",
    "version": 2
   },
   "file_extension": ".py",
   "mimetype": "text/x-python",
   "name": "python",
   "nbconvert_exporter": "python",
   "pygments_lexer": "ipython2",
   "version": "2.7.6"
  }
 },
 "nbformat": 4,
 "nbformat_minor": 5
}
