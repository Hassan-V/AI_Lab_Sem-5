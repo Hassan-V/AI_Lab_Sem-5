{
 "cells": [
  {
   "cell_type": "code",
   "execution_count": 9,
   "id": "initial_id",
   "metadata": {
    "ExecuteTime": {
     "end_time": "2024-10-29T19:08:15.978155Z",
     "start_time": "2024-10-29T19:08:15.970048Z"
    }
   },
   "outputs": [],
   "source": [
    "import numpy as np\n",
    "import pandas as pd\n",
    "\n",
    "data = {\n",
    "    \"First Score\" : [100, 90, np.nan, 95],\n",
    "    \"Second Score\" : [30, 45, 56, np.nan],\n",
    "    \"Third Score\" : [np.nan, 40, 80, 98],\n",
    "}"
   ]
  },
  {
   "cell_type": "code",
   "execution_count": 16,
   "id": "5268390fbbfec709",
   "metadata": {
    "ExecuteTime": {
     "end_time": "2024-10-29T19:08:59.281871Z",
     "start_time": "2024-10-29T19:08:59.272859Z"
    }
   },
   "outputs": [],
   "source": [
    "df = pd.DataFrame(data)\n",
    "interpolated_data = df.interpolate(method='linear', limit_direction='both')"
   ]
  },
  {
   "cell_type": "code",
   "execution_count": 17,
   "id": "5524f13fbff46d51",
   "metadata": {
    "ExecuteTime": {
     "end_time": "2024-10-29T19:09:00.061200Z",
     "start_time": "2024-10-29T19:09:00.053029Z"
    }
   },
   "outputs": [
    {
     "name": "stdout",
     "output_type": "stream",
     "text": [
      "   First Score  Second Score  Third Score\n",
      "0        100.0          30.0         40.0\n",
      "1         90.0          45.0         40.0\n",
      "2         92.5          56.0         80.0\n",
      "3         95.0          56.0         98.0\n"
     ]
    }
   ],
   "source": [
    "print(interpolated_data)"
   ]
  },
  {
   "cell_type": "code",
   "execution_count": null,
   "id": "251b3aabe33aacca",
   "metadata": {},
   "outputs": [],
   "source": []
  }
 ],
 "metadata": {
  "kernelspec": {
   "display_name": "Python 3 (ipykernel)",
   "language": "python",
   "name": "python3"
  },
  "language_info": {
   "codemirror_mode": {
    "name": "ipython",
    "version": 3
   },
   "file_extension": ".py",
   "mimetype": "text/x-python",
   "name": "python",
   "nbconvert_exporter": "python",
   "pygments_lexer": "ipython3",
   "version": "3.12.3"
  }
 },
 "nbformat": 4,
 "nbformat_minor": 5
}
