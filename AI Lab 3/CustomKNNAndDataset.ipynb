{
 "cells": [
  {
   "cell_type": "code",
   "id": "initial_id",
   "metadata": {
    "collapsed": true,
    "ExecuteTime": {
     "end_time": "2024-11-05T18:16:07.518013Z",
     "start_time": "2024-11-05T18:15:35.824385Z"
    }
   },
   "source": [
    "from CustomKNN import *\n",
    "import pandas as pd\n",
    "from sklearn.model_selection import train_test_split\n",
    "\n",
    "file_path = 'spw.xlsx'\n",
    "df = pd.read_excel(file_path)"
   ],
   "outputs": [],
   "execution_count": 24
  },
  {
   "metadata": {
    "ExecuteTime": {
     "end_time": "2024-11-05T18:16:07.567211Z",
     "start_time": "2024-11-05T18:16:07.523985Z"
    }
   },
   "cell_type": "code",
   "source": [
    "df = df[['TOWN', 'DISTRIBUTOR', 'NAME']].head(30000)\n",
    "df['DISTRIBUTOR'] = df['DISTRIBUTOR'].astype(int)\n",
    "df['TOWN'] = df['TOWN'].astype(int)\n",
    "X = df[['DISTRIBUTOR',\"TOWN\"]]\n",
    "y = df['NAME']  \n",
    "\n",
    "X_train, X_test, y_train, y_test = train_test_split(X, y, test_size=0.3, random_state=42)\n",
    "\n",
    "X_train = X_train.reset_index(drop=True)\n",
    "y_train = y_train.reset_index(drop=True)\n",
    "X_test = X_test.reset_index(drop=True)\n",
    "y_test = y_test.reset_index(drop=True)\n",
    "\n",
    "knn = CustomKNN(dataset=X_train, target_attr=y_train, k=11)"
   ],
   "id": "96ece207042ed303",
   "outputs": [],
   "execution_count": 25
  },
  {
   "metadata": {
    "jupyter": {
     "is_executing": true
    },
    "ExecuteTime": {
     "start_time": "2024-11-05T18:16:07.644143Z"
    }
   },
   "cell_type": "code",
   "source": [
    "predictions = knn.predict(X_test)\n",
    "accuracy = knn.score(X_test, y_test)\n",
    "\n",
    "print(\"Predictions:\", predictions.values)\n",
    "print(\"Accuracy:\", accuracy)"
   ],
   "id": "189e229cae5b7e2c",
   "outputs": [],
   "execution_count": null
  },
  {
   "metadata": {},
   "cell_type": "code",
   "outputs": [],
   "execution_count": null,
   "source": "",
   "id": "1993ecd9f8f4209a"
  }
 ],
 "metadata": {
  "kernelspec": {
   "display_name": "Python 3",
   "language": "python",
   "name": "python3"
  },
  "language_info": {
   "codemirror_mode": {
    "name": "ipython",
    "version": 2
   },
   "file_extension": ".py",
   "mimetype": "text/x-python",
   "name": "python",
   "nbconvert_exporter": "python",
   "pygments_lexer": "ipython2",
   "version": "2.7.6"
  }
 },
 "nbformat": 4,
 "nbformat_minor": 5
}
