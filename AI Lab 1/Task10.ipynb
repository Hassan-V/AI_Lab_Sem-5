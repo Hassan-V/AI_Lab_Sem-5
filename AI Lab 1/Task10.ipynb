{
 "cells": [
  {
   "cell_type": "code",
   "id": "initial_id",
   "metadata": {
    "collapsed": true,
    "ExecuteTime": {
     "end_time": "2024-10-22T12:42:28.481473Z",
     "start_time": "2024-10-22T12:42:28.476418Z"
    }
   },
   "source": [
    "def is_prime(number: int) -> bool:\n",
    "    for i in range(2, int(number**0.5 +1)):\n",
    "        if number % i == 0:\n",
    "            return False\n",
    "    return True"
   ],
   "outputs": [],
   "execution_count": 4
  },
  {
   "metadata": {
    "ExecuteTime": {
     "end_time": "2024-10-22T12:42:56.002854Z",
     "start_time": "2024-10-22T12:42:55.996852Z"
    }
   },
   "cell_type": "code",
   "source": [
    "def main(depth:int = 2)-> None:\n",
    "    number = input(\"Enter a number: \").strip()\n",
    "    if number.isdigit():\n",
    "        if is_prime(int(number)):\n",
    "            print(f\"{number} is a prime number\")\n",
    "        else:\n",
    "            print(f\"{number} is not a prime number\")\n",
    "    elif depth == 0:\n",
    "        print(\"Invaild Input\")\n",
    "        return \n",
    "    else:\n",
    "        main(depth-1)"
   ],
   "id": "3564dc9b8047c072",
   "outputs": [],
   "execution_count": 7
  },
  {
   "metadata": {
    "ExecuteTime": {
     "end_time": "2024-10-22T12:43:07.836644Z",
     "start_time": "2024-10-22T12:43:03.439348Z"
    }
   },
   "cell_type": "code",
   "source": [
    "if __name__ == \"__main__\":\n",
    "    main()"
   ],
   "id": "2bf272f7f12650df",
   "outputs": [
    {
     "name": "stdout",
     "output_type": "stream",
     "text": [
      "23 is a prime number\n"
     ]
    }
   ],
   "execution_count": 9
  }
 ],
 "metadata": {
  "kernelspec": {
   "display_name": "Python 3",
   "language": "python",
   "name": "python3"
  },
  "language_info": {
   "codemirror_mode": {
    "name": "ipython",
    "version": 2
   },
   "file_extension": ".py",
   "mimetype": "text/x-python",
   "name": "python",
   "nbconvert_exporter": "python",
   "pygments_lexer": "ipython2",
   "version": "2.7.6"
  }
 },
 "nbformat": 4,
 "nbformat_minor": 5
}
