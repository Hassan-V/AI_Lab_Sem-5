{
 "cells": [
  {
   "cell_type": "code",
   "id": "initial_id",
   "metadata": {
    "collapsed": true,
    "ExecuteTime": {
     "end_time": "2024-11-05T17:19:45.675189Z",
     "start_time": "2024-11-05T17:19:45.058355Z"
    }
   },
   "source": [
    "from CustomKNN import *\n",
    "import pandas as pd\n",
    "\n",
    "data = pd.DataFrame({\n",
    "    'feature1': [1, 2, 3, 4, 5],\n",
    "    'feature2': [2, 3, 4, 5, 6]\n",
    "})\n",
    "labels = pd.Series([0, 1, 0, 1, 0])"
   ],
   "outputs": [],
   "execution_count": 1
  },
  {
   "metadata": {
    "ExecuteTime": {
     "end_time": "2024-11-05T17:19:45.699075Z",
     "start_time": "2024-11-05T17:19:45.691145Z"
    }
   },
   "cell_type": "code",
   "source": [
    "knn = CustomKNN(dataset=data, target_attr=labels, k=3)\n",
    "\n",
    "test_data = pd.DataFrame({\n",
    "    'feature1': [1.5, 3.5],\n",
    "    'feature2': [2.5, 4.5]\n",
    "})\n",
    "test_labels = pd.Series([0, 1])"
   ],
   "id": "59024c5bbe3b460e",
   "outputs": [],
   "execution_count": 2
  },
  {
   "metadata": {
    "ExecuteTime": {
     "end_time": "2024-11-05T17:19:45.731998Z",
     "start_time": "2024-11-05T17:19:45.709045Z"
    }
   },
   "cell_type": "code",
   "source": [
    "predictions = knn.predict(test_data)\n",
    "accuracy = knn.score(test_data, test_labels)"
   ],
   "id": "1caca8e584e259ba",
   "outputs": [],
   "execution_count": 3
  },
  {
   "metadata": {
    "ExecuteTime": {
     "end_time": "2024-11-05T17:29:02.521313Z",
     "start_time": "2024-11-05T17:29:02.516402Z"
    }
   },
   "cell_type": "code",
   "source": [
    "print(\"Predictions:\", predictions.values)\n",
    "print(\"Accuracy:\", accuracy)"
   ],
   "id": "84f533c95c152b5a",
   "outputs": [
    {
     "name": "stdout",
     "output_type": "stream",
     "text": [
      "Predictions: [0 1]\n",
      "Accuracy: 1.0\n"
     ]
    }
   ],
   "execution_count": 10
  },
  {
   "metadata": {},
   "cell_type": "code",
   "outputs": [],
   "execution_count": null,
   "source": "",
   "id": "478376f494698b69"
  }
 ],
 "metadata": {
  "kernelspec": {
   "display_name": "Python 3",
   "language": "python",
   "name": "python3"
  },
  "language_info": {
   "codemirror_mode": {
    "name": "ipython",
    "version": 2
   },
   "file_extension": ".py",
   "mimetype": "text/x-python",
   "name": "python",
   "nbconvert_exporter": "python",
   "pygments_lexer": "ipython2",
   "version": "2.7.6"
  }
 },
 "nbformat": 4,
 "nbformat_minor": 5
}
