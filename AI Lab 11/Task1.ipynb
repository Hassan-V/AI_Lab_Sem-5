{
 "cells": [
  {
   "cell_type": "code",
   "id": "initial_id",
   "metadata": {
    "collapsed": true,
    "ExecuteTime": {
     "end_time": "2025-01-07T20:13:33.337446Z",
     "start_time": "2025-01-07T20:13:33.324556Z"
    }
   },
   "source": [
    "from queue import LifoQueue\n",
    "\n",
    "lifo_queue = LifoQueue()\n",
    "\n",
    "lifo_queue.put(\"Taqi\")\n",
    "lifo_queue.put(\"Arqum\")\n",
    "lifo_queue.put(\"Ibad\")\n",
    "\n",
    "while not lifo_queue.empty():\n",
    "    print(lifo_queue.get())"
   ],
   "outputs": [
    {
     "name": "stdout",
     "output_type": "stream",
     "text": [
      "Ibad\n",
      "Arqum\n",
      "Taqi\n"
     ]
    }
   ],
   "execution_count": 1
  }
 ],
 "metadata": {
  "kernelspec": {
   "display_name": "Python 3",
   "language": "python",
   "name": "python3"
  },
  "language_info": {
   "codemirror_mode": {
    "name": "ipython",
    "version": 2
   },
   "file_extension": ".py",
   "mimetype": "text/x-python",
   "name": "python",
   "nbconvert_exporter": "python",
   "pygments_lexer": "ipython2",
   "version": "2.7.6"
  }
 },
 "nbformat": 4,
 "nbformat_minor": 5
}
