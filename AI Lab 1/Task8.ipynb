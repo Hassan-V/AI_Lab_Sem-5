{
 "cells": [
  {
   "cell_type": "code",
   "id": "initial_id",
   "metadata": {
    "collapsed": true,
    "ExecuteTime": {
     "end_time": "2024-10-22T11:53:35.743814Z",
     "start_time": "2024-10-22T11:53:35.739410Z"
    }
   },
   "source": [
    "def check_absolute(number: int) -> int:\n",
    "    sign_bit = number >> 31\n",
    "    return (number+sign_bit) ^ sign_bit"
   ],
   "outputs": [],
   "execution_count": 15
  },
  {
   "metadata": {
    "ExecuteTime": {
     "end_time": "2024-10-22T11:53:35.909911Z",
     "start_time": "2024-10-22T11:53:35.903439Z"
    }
   },
   "cell_type": "code",
   "source": [
    "def main(depth: int = 2) -> None:\n",
    "    user_number = input(\"Enter a number: \").strip()\n",
    "    if (\"-\" == user_number[0] and user_number[1:].isnumeric()) or user_number.isnumeric():\n",
    "        print(f\"{user_number} --> {check_absolute(int(user_number))}\")\n",
    "        return \n",
    "    elif depth == 0:\n",
    "        print(\"Invalid Input\")\n",
    "        return \n",
    "    else:\n",
    "        main(depth - 1)"
   ],
   "id": "8067e31e294d1ecf",
   "outputs": [],
   "execution_count": 16
  },
  {
   "metadata": {
    "ExecuteTime": {
     "end_time": "2024-10-22T11:53:44.751109Z",
     "start_time": "2024-10-22T11:53:42.016391Z"
    }
   },
   "cell_type": "code",
   "source": [
    "if __name__ == '__main__':\n",
    "    main()"
   ],
   "id": "e760526c0eea70c6",
   "outputs": [
    {
     "name": "stdout",
     "output_type": "stream",
     "text": [
      "454654 --> 454654\n"
     ]
    }
   ],
   "execution_count": 18
  }
 ],
 "metadata": {
  "kernelspec": {
   "display_name": "Python 3",
   "language": "python",
   "name": "python3"
  },
  "language_info": {
   "codemirror_mode": {
    "name": "ipython",
    "version": 2
   },
   "file_extension": ".py",
   "mimetype": "text/x-python",
   "name": "python",
   "nbconvert_exporter": "python",
   "pygments_lexer": "ipython2",
   "version": "2.7.6"
  }
 },
 "nbformat": 4,
 "nbformat_minor": 5
}
