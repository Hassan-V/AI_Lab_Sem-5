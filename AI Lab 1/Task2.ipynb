{
 "cells": [
  {
   "cell_type": "code",
   "execution_count": 12,
   "id": "initial_id",
   "metadata": {
    "ExecuteTime": {
     "end_time": "2024-10-21T18:50:45.488592Z",
     "start_time": "2024-10-21T18:50:45.483605Z"
    },
    "collapsed": true,
    "jupyter": {
     "outputs_hidden": true
    }
   },
   "outputs": [],
   "source": [
    "def celsius_to_fahrenheit(celsius: float) -> float:\n",
    "    fahrenheit: float = (celsius * 1.8) + 32\n",
    "    return fahrenheit"
   ]
  },
  {
   "cell_type": "code",
   "execution_count": 13,
   "id": "e3e3e0fb4fcff06e",
   "metadata": {
    "ExecuteTime": {
     "end_time": "2024-10-21T18:50:45.695272Z",
     "start_time": "2024-10-21T18:50:45.689287Z"
    }
   },
   "outputs": [],
   "source": [
    "def fahrenheit_to_celsius(fahrenheit: float) -> float:\n",
    "    celsius: float = (fahrenheit - 32) / 1.8\n",
    "    return celsius"
   ]
  },
  {
   "cell_type": "code",
   "execution_count": 14,
   "id": "1789ac603fbbdbc7",
   "metadata": {
    "ExecuteTime": {
     "end_time": "2024-10-21T18:50:45.849012Z",
     "start_time": "2024-10-21T18:50:45.837045Z"
    }
   },
   "outputs": [],
   "source": [
    "def main(depth: int = 2) -> None:\n",
    "    unconfirmed_celsius_value: str = input(\"Enter Temperature in Celsius: \")\n",
    "    if unconfirmed_celsius_value.isnumeric():\n",
    "        farenheit: float = celsius_to_fahrenheit(int(unconfirmed_celsius_value))\n",
    "        print(f\"{unconfirmed_celsius_value} is {farenheit}\")\n",
    "    elif depth == 0:\n",
    "        print(\"Invalid Temperature Input! Exiting\")\n",
    "    else:\n",
    "        main(depth - 1)"
   ]
  },
  {
   "cell_type": "code",
   "execution_count": 15,
   "id": "dff49c72c3bc8e45",
   "metadata": {
    "ExecuteTime": {
     "end_time": "2024-10-21T18:50:49.154130Z",
     "start_time": "2024-10-21T18:50:46.046541Z"
    }
   },
   "outputs": [
    {
     "name": "stdout",
     "output_type": "stream",
     "text": [
      "50 is 122.0\n"
     ]
    }
   ],
   "source": [
    "if __name__ == \"__main__\":\n",
    "    main()"
   ]
  }
 ],
 "metadata": {
  "kernelspec": {
   "display_name": "Python 3 (ipykernel)",
   "language": "python",
   "name": "python3"
  },
  "language_info": {
   "codemirror_mode": {
    "name": "ipython",
    "version": 3
   },
   "file_extension": ".py",
   "mimetype": "text/x-python",
   "name": "python",
   "nbconvert_exporter": "python",
   "pygments_lexer": "ipython3",
   "version": "3.11.9"
  }
 },
 "nbformat": 4,
 "nbformat_minor": 5
}
